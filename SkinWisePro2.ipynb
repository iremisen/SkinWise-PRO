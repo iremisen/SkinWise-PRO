{
  "nbformat": 4,
  "nbformat_minor": 0,
  "metadata": {
    "colab": {
      "provenance": [],
      "machine_shape": "hm",
      "gpuType": "T4"
    },
    "kernelspec": {
      "name": "python3",
      "display_name": "Python 3"
    },
    "language_info": {
      "name": "python"
    },
    "accelerator": "GPU"
  },
  "cells": [
    {
      "cell_type": "markdown",
      "source": [
        "## Connecting to Drive\n",
        "\n",
        "We will connect the colab file to drive in order to access the dataset with predefined labeled images."
      ],
      "metadata": {
        "id": "VHo8jfsrxXcE"
      }
    },
    {
      "cell_type": "code",
      "execution_count": null,
      "metadata": {
        "colab": {
          "base_uri": "https://localhost:8080/"
        },
        "id": "TXvTitQsXDnq",
        "outputId": "dd9ff07b-be72-4cc8-8586-943bdd71ff8a"
      },
      "outputs": [
        {
          "output_type": "stream",
          "name": "stdout",
          "text": [
            "Mounted at /content/drive\n"
          ]
        }
      ],
      "source": [
        "from google.colab import drive\n",
        "drive.mount(\"/content/drive\")"
      ]
    },
    {
      "cell_type": "markdown",
      "source": [
        "## Dataset Preparation\n",
        "\n",
        "We will reorganize the images in the dataset based on the predefined label mappings in the dataset. The images are copied from the original dataset and stored in the refined dataset for further usage. This preparation process helps for streamlining and better dataset management.\n"
      ],
      "metadata": {
        "id": "j0ld6d-0PfxH"
      }
    },
    {
      "cell_type": "code",
      "source": [
        "import os\n",
        "import shutil\n",
        "\n",
        "# base path\n",
        "dataset_path = '/content/drive/My Drive/Capstone'\n",
        "\n",
        "# refined dataset\n",
        "refined_dataset_base_path = '/content/drive/My Drive/Capstone'\n",
        "refined_dataset_path = os.path.join(refined_dataset_base_path, 'refined_dataset')\n",
        "\n",
        "os.makedirs(refined_dataset_path, exist_ok=True)\n",
        "\n",
        "label_mappings = {\n",
        "    'basal cell carcinoma': 'basal cell carcinoma',\n",
        "    'actinic keratosis': 'actinic keratosis',\n",
        "    'Acne': 'acne',\n",
        "    'milia': 'milia',\n",
        "    'freckle' :'freckle'\n",
        "}\n",
        "\n",
        "# iterate over the directories in the base dataset path\n",
        "for dir_name in os.listdir(dataset_path):\n",
        "    if dir_name in label_mappings:\n",
        "        full_dir_path = os.path.join(dataset_path, dir_name)\n",
        "        if os.path.isdir(full_dir_path):\n",
        "            for filename in os.listdir(full_dir_path):\n",
        "                source_path = os.path.join(full_dir_path, filename)\n",
        "                destination_path = os.path.join(refined_dataset_path, label_mappings[dir_name], filename)\n",
        "                os.makedirs(os.path.dirname(destination_path), exist_ok=True)\n",
        "                if source_path != destination_path:\n",
        "                    shutil.copy(source_path, destination_path)\n",
        "\n",
        "print(\"Dataset reorganization complete.\")\n"
      ],
      "metadata": {
        "colab": {
          "base_uri": "https://localhost:8080/"
        },
        "id": "58m26udpXHkO",
        "outputId": "18f14eb4-0f58-4833-8e84-8c5d8bd239d0"
      },
      "execution_count": null,
      "outputs": [
        {
          "output_type": "stream",
          "name": "stdout",
          "text": [
            "Dataset reorganization complete.\n"
          ]
        }
      ]
    },
    {
      "cell_type": "markdown",
      "source": [
        "## Dataset Image Limiting\n",
        "\n",
        "We will now create a dataset called the refined datset which will contain limited number of images for each respective class. We wwill also specify a backup path. The images are selected randomly to store in the backup data so that we can maange the data better."
      ],
      "metadata": {
        "id": "bgj1lwj86MvZ"
      }
    },
    {
      "cell_type": "code",
      "source": [
        "import os\n",
        "import shutil\n",
        "import random\n",
        "\n",
        "dataset_path = '/content/drive/My Drive/Capstone/refined_dataset'\n",
        "\n",
        "# max number of images per class\n",
        "max_images_per_class = 300\n",
        "\n",
        "# backup files\n",
        "backup_path = '/content/drive/My Drive/Capstone/superbackup'\n",
        "\n",
        "os.makedirs(backup_path, exist_ok=True)\n",
        "\n",
        "# iterate over the classes\n",
        "for class_name in os.listdir(dataset_path):\n",
        "    class_dir = os.path.join(dataset_path, class_name)\n",
        "\n",
        "    class_backup_dir = os.path.join(backup_path, class_name)\n",
        "    os.makedirs(class_backup_dir, exist_ok=True)\n",
        "\n",
        "    if os.path.isdir(class_dir):\n",
        "        files = os.listdir(class_dir)\n",
        "        # if the number of files exceeds the maximum, randomly select files to keep and move the rest to backup\n",
        "        if len(files) > max_images_per_class:\n",
        "            keep_files = set(random.sample(files, max_images_per_class))\n",
        "            move_files = [f for f in files if f not in keep_files]\n",
        "            for file_name in move_files:\n",
        "                src_file = os.path.join(class_dir, file_name)\n",
        "                dst_file = os.path.join(class_backup_dir, file_name)\n",
        "                shutil.move(src_file, dst_file)\n",
        "\n",
        "print(\"Dataset limiting complete. Excess files moved to backup.\")\n"
      ],
      "metadata": {
        "colab": {
          "base_uri": "https://localhost:8080/"
        },
        "id": "hznd1vdnXHnN",
        "outputId": "2bc5696e-7a00-42ab-9f4c-d4e01843bb41"
      },
      "execution_count": null,
      "outputs": [
        {
          "output_type": "stream",
          "name": "stdout",
          "text": [
            "Dataset limiting complete. Excess files moved to backup.\n"
          ]
        }
      ]
    },
    {
      "cell_type": "markdown",
      "source": [
        "## CNN Model using Transfer Learning\n",
        "\n",
        "We start by using the refined dataset to define data generators, to get the images set for training, with one for augmented training data and other one for just the validation data. We further use InceptionV3, a pre-trained CNN model, with teh ImageNet dataset. For the pre-trained model we import it withput the fully connected layers, we add our own flattened layer and two dense layers as well. The idea is to use transfer learning to benefit of pre-trained model weights.\n"
      ],
      "metadata": {
        "id": "rlNvKNcP6gNH"
      }
    },
    {
      "cell_type": "code",
      "source": [
        "import tensorflow as tf\n",
        "from tensorflow.keras.models import Sequential\n",
        "from tensorflow.keras.layers import Conv2D, MaxPooling2D, Flatten, Dense, Dropout,Layer\n",
        "from tensorflow.keras.preprocessing.image import ImageDataGenerator\n",
        "from keras.applications.inception_v3 import InceptionV3\n",
        "from tensorflow.keras import layers\n",
        "import numpy as np\n",
        "\n",
        "dataset_path = '/content/drive/My Drive/Capstone/refined_dataset'\n",
        "\n",
        "# training data generator with augmentation\n",
        "train_datagen = ImageDataGenerator(\n",
        "    rescale=1./255,\n",
        "    rotation_range=40,\n",
        "    width_shift_range=0.2,\n",
        "    height_shift_range=0.2,\n",
        "    shear_range=0.2,\n",
        "    zoom_range=0.2,\n",
        "    horizontal_flip=True,\n",
        "    fill_mode='nearest',\n",
        "    validation_split=0.2\n",
        ")\n",
        "\n",
        "# validation data generator just rescaling\n",
        "validation_datagen = ImageDataGenerator(\n",
        "    rescale=1./255,\n",
        "    validation_split=0.2\n",
        ")\n",
        "\n",
        "# training data generator\n",
        "train_generator = train_datagen.flow_from_directory(\n",
        "    dataset_path,\n",
        "    target_size=(150, 150),\n",
        "    batch_size=20,\n",
        "    class_mode='categorical',\n",
        "    subset='training'\n",
        ")\n",
        "\n",
        "# validation data generator\n",
        "validation_generator = validation_datagen.flow_from_directory(\n",
        "    dataset_path,\n",
        "    target_size=(150, 150),\n",
        "    batch_size=20,\n",
        "    class_mode='categorical',\n",
        "    subset='validation'\n",
        ")\n",
        "\n",
        "pretrained_model = InceptionV3(input_shape=(150, 150, 3), include_top=False, weights=\"imagenet\")\n",
        "\n",
        "for layer in pretrained_model.layers:\n",
        "        layer.trainable=False\n",
        "\n",
        "model = Sequential()\n",
        "model.add(pretrained_model)\n",
        "model.add(Flatten())\n",
        "model.add(Dense(512, activation='relu'))\n",
        "model.add(Dense(5, activation='softmax'))\n",
        "\n"
      ],
      "metadata": {
        "colab": {
          "base_uri": "https://localhost:8080/"
        },
        "id": "oRDFfimDXHpk",
        "outputId": "e7d1bb30-d393-423b-b05d-a169b1ca5e1b"
      },
      "execution_count": null,
      "outputs": [
        {
          "output_type": "stream",
          "name": "stdout",
          "text": [
            "Found 912 images belonging to 5 classes.\n",
            "Found 227 images belonging to 5 classes.\n"
          ]
        }
      ]
    },
    {
      "cell_type": "markdown",
      "source": [
        "## Hyperparameter Tuning using Keras Tuner\n",
        "\n",
        "We use the keras tuner library here to get the best and most optimal hyperparameters combination for the model. It maximizes teh valdation accuracy We have also incorporated early stopping callback in order to prevent the issue of overfitting on our model.\n"
      ],
      "metadata": {
        "id": "1vJC3tuJ6bjQ"
      }
    },
    {
      "cell_type": "code",
      "source": [
        "!pip install keras_tuner"
      ],
      "metadata": {
        "colab": {
          "base_uri": "https://localhost:8080/"
        },
        "id": "23YtHdeZAF0h",
        "outputId": "7be6941a-f048-4987-b9ac-d5dc8f44319a"
      },
      "execution_count": null,
      "outputs": [
        {
          "output_type": "stream",
          "name": "stdout",
          "text": [
            "Collecting keras_tuner\n",
            "  Downloading keras_tuner-1.4.7-py3-none-any.whl (129 kB)\n",
            "\u001b[2K     \u001b[90m━━━━━━━━━━━━━━━━━━━━━━━━━━━━━━━━━━━━━━━━\u001b[0m \u001b[32m129.1/129.1 kB\u001b[0m \u001b[31m1.4 MB/s\u001b[0m eta \u001b[36m0:00:00\u001b[0m\n",
            "\u001b[?25hRequirement already satisfied: keras in /usr/local/lib/python3.10/dist-packages (from keras_tuner) (2.15.0)\n",
            "Requirement already satisfied: packaging in /usr/local/lib/python3.10/dist-packages (from keras_tuner) (24.0)\n",
            "Requirement already satisfied: requests in /usr/local/lib/python3.10/dist-packages (from keras_tuner) (2.31.0)\n",
            "Collecting kt-legacy (from keras_tuner)\n",
            "  Downloading kt_legacy-1.0.5-py3-none-any.whl (9.6 kB)\n",
            "Requirement already satisfied: charset-normalizer<4,>=2 in /usr/local/lib/python3.10/dist-packages (from requests->keras_tuner) (3.3.2)\n",
            "Requirement already satisfied: idna<4,>=2.5 in /usr/local/lib/python3.10/dist-packages (from requests->keras_tuner) (3.7)\n",
            "Requirement already satisfied: urllib3<3,>=1.21.1 in /usr/local/lib/python3.10/dist-packages (from requests->keras_tuner) (2.0.7)\n",
            "Requirement already satisfied: certifi>=2017.4.17 in /usr/local/lib/python3.10/dist-packages (from requests->keras_tuner) (2024.2.2)\n",
            "Installing collected packages: kt-legacy, keras_tuner\n",
            "Successfully installed keras_tuner-1.4.7 kt-legacy-1.0.5\n"
          ]
        }
      ]
    },
    {
      "cell_type": "code",
      "source": [
        "import keras_tuner as kt\n",
        "# we used GPT4 for this function to assist us with using keras tuner\n",
        "# it takes too long to run but the optimal values were 512 units for first dense layer and a learning rate of 0.0001\n",
        "def build_model(hp):\n",
        "    model = Sequential()\n",
        "    pretrained_model = InceptionV3(input_shape=(150, 150, 3), include_top=False, weights=\"imagenet\")\n",
        "    for layer in pretrained_model.layers:\n",
        "        layer.trainable = False\n",
        "    model.add(pretrained_model)\n",
        "    model.add(Flatten())\n",
        "    model.add(Dense(units=hp.Int('units', min_value=256, max_value=1024, step=256),\n",
        "                    activation='relu'))\n",
        "    model.add(Dropout(rate=hp.Float('dropout', min_value=0.0, max_value=0.5, step=0.1)))\n",
        "    model.add(Dense(5, activation='softmax'))\n",
        "\n",
        "    model.compile(optimizer=tf.keras.optimizers.Adam(\n",
        "                    hp.Choice('learning_rate', values=[1e-2, 1e-3, 1e-4])),\n",
        "                  loss='categorical_crossentropy',\n",
        "                  metrics=['accuracy'])\n",
        "\n",
        "    return model\n",
        "\n",
        "tuner = kt.Hyperband(build_model,\n",
        "                     objective='val_accuracy',\n",
        "                     max_epochs=10,\n",
        "                     factor=3,\n",
        "                     directory='my_dir',\n",
        "                     project_name='intro_to_kt')\n",
        "\n",
        "stop_early = tf.keras.callbacks.EarlyStopping(monitor='val_loss', patience=5)\n",
        "\n",
        "tuner.search(train_generator,\n",
        "             validation_data=validation_generator,\n",
        "             epochs=50,\n",
        "             callbacks=[stop_early])\n",
        "\n",
        "# getting the optimal hyperparameters\n",
        "best_hps=tuner.get_best_hyperparameters(num_trials=1)[0]\n",
        "\n",
        "print(f\"\"\"\n",
        "The optimal number of units in the first densely-connected\n",
        "layer is {best_hps.get('units')} and the optimal learning rate for the optimizer\n",
        "is {best_hps.get('learning_rate')}.\n",
        "\"\"\")\n",
        "\n",
        "# build the model with the optimal hyperparameters and train it on the data for 50 epochs\n",
        "model = tuner.hypermodel.build(best_hps)\n",
        "model.fit(train_generator, validation_data=validation_generator, epochs=50)\n"
      ],
      "metadata": {
        "colab": {
          "base_uri": "https://localhost:8080/"
        },
        "id": "ib_a4lld6acm",
        "outputId": "44df68f7-6c9e-4ff1-e307-4c60107a3523"
      },
      "execution_count": null,
      "outputs": [
        {
          "output_type": "stream",
          "name": "stdout",
          "text": [
            "Trial 9 Complete [00h 00m 50s]\n",
            "val_accuracy: 0.691629946231842\n",
            "\n",
            "Best val_accuracy So Far: 0.7444933652877808\n",
            "Total elapsed time: 00h 12m 07s\n",
            "\n",
            "Search: Running Trial #10\n",
            "\n",
            "Value             |Best Value So Far |Hyperparameter\n",
            "768               |256               |units\n",
            "0.1               |0.2               |dropout\n",
            "0.001             |0.0001            |learning_rate\n",
            "2                 |2                 |tuner/epochs\n",
            "0                 |0                 |tuner/initial_epoch\n",
            "2                 |2                 |tuner/bracket\n",
            "0                 |0                 |tuner/round\n",
            "\n"
          ]
        }
      ]
    },
    {
      "cell_type": "markdown",
      "source": [
        "## Model Training\n",
        "\n",
        "We start with building a model architecture with the InceptionV3 model and the other layers like the flattened layer, dense layers with relu and softmax activation to do multi-class classification. We use categorical cross-entropy loss and adam optimizer to compile the model and train it further. Lastly, we prepare the test data and make predictions with the training model.\n"
      ],
      "metadata": {
        "id": "REZMSKi4INlo"
      }
    },
    {
      "cell_type": "code",
      "source": [
        "from tensorflow.keras.models import Sequential\n",
        "from tensorflow.keras.layers import Flatten, Dense, Dropout\n",
        "from keras.applications.inception_v3 import InceptionV3\n",
        "from tensorflow.keras.optimizers import Adam\n",
        "\n",
        "\n",
        "# load pre-trained InceptionV3 model\n",
        "pretrained_model = InceptionV3(input_shape=(150, 150, 3), include_top=False, weights=\"imagenet\")\n",
        "for layer in pretrained_model.layers:\n",
        "    layer.trainable = False\n",
        "\n",
        "model = Sequential([\n",
        "    pretrained_model,\n",
        "    Flatten(),\n",
        "    Dense(512, activation='relu'),  #optimal number of units\n",
        "    Dropout(0.5),\n",
        "    Dense(5, activation='softmax')\n",
        "])\n",
        "\n",
        "model.compile(optimizer=Adam(learning_rate=0.0001),\n",
        "              loss='categorical_crossentropy',\n",
        "              metrics=['accuracy'])\n",
        "\n",
        "# train\n",
        "history = model.fit(train_generator,\n",
        "                    validation_data=validation_generator,\n",
        "                    epochs=11)\n",
        "\n",
        "test_dataset_path = '/content/drive/My Drive/Capstone/testing/test_set'\n",
        "\n",
        "test_datagen = ImageDataGenerator(rescale=1./255)\n",
        "\n",
        "# test data generator\n",
        "test_generator = test_datagen.flow_from_directory(\n",
        "    test_dataset_path,\n",
        "    target_size=(150, 150),\n",
        "    batch_size=20,\n",
        "    class_mode='categorical',\n",
        "    shuffle=False\n",
        ")\n",
        "\n"
      ],
      "metadata": {
        "id": "tYKR8JMuH2oK",
        "colab": {
          "base_uri": "https://localhost:8080/"
        },
        "outputId": "e91027b9-270d-4b82-94ad-6335fb0b7329"
      },
      "execution_count": null,
      "outputs": [
        {
          "output_type": "stream",
          "name": "stdout",
          "text": [
            "Epoch 1/11\n",
            "18/46 [==========>...................] - ETA: 5:41 - loss: 2.4530 - accuracy: 0.3693"
          ]
        }
      ]
    },
    {
      "cell_type": "code",
      "source": [
        "loss, accuracy = model.evaluate(test_generator)\n",
        "\n",
        "print(f\"Test Loss: {loss}\")\n",
        "print(f\"Test Accuracy: {accuracy}\")"
      ],
      "metadata": {
        "id": "0uljpkWm-hi-"
      },
      "execution_count": null,
      "outputs": []
    },
    {
      "cell_type": "code",
      "source": [
        "model.save('/content/drive/My Drive/Capstone/skinwisepro.h5')"
      ],
      "metadata": {
        "id": "Rv_3y9PfI5Xr",
        "colab": {
          "base_uri": "https://localhost:8080/",
          "height": 141
        },
        "outputId": "2722e01e-ee6b-42c2-dd33-efa8c127725a"
      },
      "execution_count": null,
      "outputs": [
        {
          "output_type": "error",
          "ename": "NameError",
          "evalue": "name 'model' is not defined",
          "traceback": [
            "\u001b[0;31m---------------------------------------------------------------------------\u001b[0m",
            "\u001b[0;31mNameError\u001b[0m                                 Traceback (most recent call last)",
            "\u001b[0;32m<ipython-input-2-f1139e4d895e>\u001b[0m in \u001b[0;36m<cell line: 1>\u001b[0;34m()\u001b[0m\n\u001b[0;32m----> 1\u001b[0;31m \u001b[0mmodel\u001b[0m\u001b[0;34m.\u001b[0m\u001b[0msave\u001b[0m\u001b[0;34m(\u001b[0m\u001b[0;34m'/content/drive/My Drive/Capstone/skinwisepro.h5'\u001b[0m\u001b[0;34m)\u001b[0m\u001b[0;34m\u001b[0m\u001b[0;34m\u001b[0m\u001b[0m\n\u001b[0m",
            "\u001b[0;31mNameError\u001b[0m: name 'model' is not defined"
          ]
        }
      ]
    },
    {
      "cell_type": "code",
      "source": [
        "pretrained_model"
      ],
      "metadata": {
        "id": "8_qhjkZpr6IA",
        "colab": {
          "base_uri": "https://localhost:8080/"
        },
        "outputId": "d8dd8e7a-0961-4908-b448-bd3d922c9b7e"
      },
      "execution_count": null,
      "outputs": [
        {
          "output_type": "execute_result",
          "data": {
            "text/plain": [
              "<keras.src.engine.functional.Functional at 0x7bef23ddebf0>"
            ]
          },
          "metadata": {},
          "execution_count": 13
        }
      ]
    },
    {
      "cell_type": "markdown",
      "source": [
        "## Model Performance with Test Set\n",
        "\n",
        "We now test the model performance using the test set that is generated using image generator."
      ],
      "metadata": {
        "id": "pB5muv0Z6oN1"
      }
    },
    {
      "cell_type": "code",
      "source": [
        "from tensorflow.keras.preprocessing.image import ImageDataGenerator\n",
        "from tensorflow.keras.models import load_model\n",
        "import numpy as np\n",
        "from PIL import Image\n",
        "import os\n",
        "\n",
        "model = load_model('/content/drive/My Drive/Capstone/skinwisepro.h5')\n",
        "\n",
        "test_dir = '/content/drive/My Drive/Capstone/testing'\n",
        "\n",
        "\n",
        "test_datagen = ImageDataGenerator(rescale=1./255)\n",
        "test_generator = test_datagen.flow_from_directory(\n",
        "    test_dir,\n",
        "    target_size=(150, 150),\n",
        "    batch_size=20,\n",
        "    class_mode=None,\n",
        "    shuffle=True\n",
        ")\n",
        "\n",
        "index_to_class_name = {\n",
        "    0: 'acne',\n",
        "    1: 'actinic keratosis',\n",
        "    2: 'basal cell carcinoma',\n",
        "    3: 'freckle',\n",
        "    4: 'milia'\n",
        "}\n",
        "\n",
        "\n",
        "predictions = model.predict(test_generator)\n",
        "predicted_classes = np.argmax(predictions, axis=1)\n",
        "filenames = test_generator.filenames\n",
        "\n",
        "for i, (prediction, filename) in enumerate(zip(predictions, filenames)):\n",
        "    predicted_class = predicted_classes[i]\n",
        "    predicted_class_name = index_to_class_name[predicted_class]\n",
        "    probability = np.max(prediction)\n",
        "    print(f\"Image: {filename} - Predicted class: {predicted_class_name}, Probability: {probability:.4f}\")\n"
      ],
      "metadata": {
        "id": "rDfj-l1FXHry",
        "colab": {
          "base_uri": "https://localhost:8080/"
        },
        "outputId": "38ea44c3-112e-40f2-fe4a-391f94ab8fae"
      },
      "execution_count": null,
      "outputs": [
        {
          "output_type": "stream",
          "name": "stdout",
          "text": [
            "Found 537 images belonging to 1 classes.\n",
            "27/27 [==============================] - 8s 253ms/step\n",
            "Image: test_set/IMG_1301.png - Predicted class: actinic keratosis, Probability: 0.4872\n",
            "Image: test_set/IMG_1453.png - Predicted class: acne, Probability: 0.8674\n",
            "Image: test_set/IMG_2461.png - Predicted class: actinic keratosis, Probability: 0.5119\n",
            "Image: test_set/IMG_2596.png - Predicted class: acne, Probability: 0.6125\n",
            "Image: test_set/IMG_2751.png - Predicted class: freckle, Probability: 0.4070\n",
            "Image: test_set/IMG_3014.png - Predicted class: acne, Probability: 0.3415\n",
            "Image: test_set/IMG_3476.png - Predicted class: basal cell carcinoma, Probability: 0.8800\n",
            "Image: test_set/IMG_3879.png - Predicted class: acne, Probability: 0.6838\n",
            "Image: test_set/IMG_3916.png - Predicted class: milia, Probability: 0.9989\n",
            "Image: test_set/IMG_4032.png - Predicted class: actinic keratosis, Probability: 0.5489\n",
            "Image: test_set/IMG_4097.png - Predicted class: acne, Probability: 0.4472\n",
            "Image: test_set/IMG_4179.png - Predicted class: basal cell carcinoma, Probability: 0.8175\n",
            "Image: test_set/IMG_4546.png - Predicted class: milia, Probability: 0.9595\n",
            "Image: test_set/IMG_5001.png - Predicted class: acne, Probability: 0.6198\n",
            "Image: test_set/IMG_5073.png - Predicted class: freckle, Probability: 0.7955\n",
            "Image: test_set/IMG_5223.png - Predicted class: freckle, Probability: 0.9399\n",
            "Image: test_set/IMG_5269.png - Predicted class: actinic keratosis, Probability: 0.4837\n",
            "Image: test_set/IMG_5931.png - Predicted class: milia, Probability: 0.9760\n",
            "Image: test_set/IMG_7543.png - Predicted class: acne, Probability: 0.6988\n",
            "Image: test_set/IMG_7926.png - Predicted class: basal cell carcinoma, Probability: 0.7617\n",
            "Image: test_set/IMG_7986.png - Predicted class: acne, Probability: 0.3231\n",
            "Image: test_set/IMG_8120.png - Predicted class: milia, Probability: 0.5139\n",
            "Image: test_set/IMG_9796.png - Predicted class: basal cell carcinoma, Probability: 0.5668\n",
            "Image: test_set/IMG_9972.png - Predicted class: basal cell carcinoma, Probability: 0.9846\n",
            "Image: test_set/ISIC_0024360.jpg - Predicted class: milia, Probability: 0.6362\n",
            "Image: test_set/ISIC_0024431.jpg - Predicted class: acne, Probability: 0.3391\n",
            "Image: test_set/ISIC_0024457.jpg - Predicted class: acne, Probability: 0.7176\n",
            "Image: test_set/ISIC_0024504.jpg - Predicted class: basal cell carcinoma, Probability: 0.6330\n",
            "Image: test_set/ISIC_0024515.jpg - Predicted class: acne, Probability: 0.7309\n",
            "Image: test_set/ISIC_0024572.jpg - Predicted class: acne, Probability: 0.4398\n",
            "Image: test_set/ISIC_0024573.jpg - Predicted class: acne, Probability: 0.4998\n",
            "Image: test_set/ISIC_0024590.jpg - Predicted class: acne, Probability: 0.7735\n",
            "Image: test_set/ISIC_0024632.jpg - Predicted class: basal cell carcinoma, Probability: 0.9270\n",
            "Image: test_set/ISIC_0024666.jpg - Predicted class: milia, Probability: 0.4616\n",
            "Image: test_set/ISIC_0024673.jpg - Predicted class: milia, Probability: 0.3405\n",
            "Image: test_set/ISIC_0024795.jpg - Predicted class: milia, Probability: 0.7033\n",
            "Image: test_set/ISIC_0024848.jpg - Predicted class: basal cell carcinoma, Probability: 0.3559\n",
            "Image: test_set/ISIC_0024885.jpg - Predicted class: basal cell carcinoma, Probability: 0.5193\n",
            "Image: test_set/ISIC_0025102.jpg - Predicted class: milia, Probability: 0.6338\n",
            "Image: test_set/ISIC_0025144.jpg - Predicted class: basal cell carcinoma, Probability: 0.5587\n",
            "Image: test_set/ISIC_0025301.jpg - Predicted class: basal cell carcinoma, Probability: 0.7372\n",
            "Image: test_set/ISIC_0025383.jpg - Predicted class: basal cell carcinoma, Probability: 0.5887\n",
            "Image: test_set/ISIC_0025417.jpg - Predicted class: basal cell carcinoma, Probability: 0.5000\n",
            "Image: test_set/ISIC_0025467.jpg - Predicted class: basal cell carcinoma, Probability: 0.3975\n",
            "Image: test_set/ISIC_0025513.jpg - Predicted class: actinic keratosis, Probability: 0.8040\n",
            "Image: test_set/ISIC_0025557.jpg - Predicted class: acne, Probability: 0.9973\n",
            "Image: test_set/ISIC_0025576.jpg - Predicted class: acne, Probability: 0.6267\n",
            "Image: test_set/ISIC_0025584.jpg - Predicted class: actinic keratosis, Probability: 0.4838\n",
            "Image: test_set/ISIC_0025600.jpg - Predicted class: acne, Probability: 0.4668\n",
            "Image: test_set/ISIC_0025617.jpg - Predicted class: actinic keratosis, Probability: 0.3677\n",
            "Image: test_set/ISIC_0025644.jpg - Predicted class: acne, Probability: 0.9561\n",
            "Image: test_set/ISIC_0025691.jpg - Predicted class: actinic keratosis, Probability: 0.4857\n",
            "Image: test_set/ISIC_0025700.jpg - Predicted class: basal cell carcinoma, Probability: 0.9696\n",
            "Image: test_set/ISIC_0025718.jpg - Predicted class: freckle, Probability: 0.6279\n",
            "Image: test_set/ISIC_0025731.jpg - Predicted class: actinic keratosis, Probability: 0.3251\n",
            "Image: test_set/ISIC_0025752.jpg - Predicted class: milia, Probability: 0.6136\n",
            "Image: test_set/ISIC_0025793.jpg - Predicted class: freckle, Probability: 0.3323\n",
            "Image: test_set/ISIC_0025824.jpg - Predicted class: acne, Probability: 0.4537\n",
            "Image: test_set/ISIC_0025932.jpg - Predicted class: acne, Probability: 0.4778\n",
            "Image: test_set/ISIC_0025971.jpg - Predicted class: basal cell carcinoma, Probability: 0.8245\n",
            "Image: test_set/ISIC_0026091.jpg - Predicted class: basal cell carcinoma, Probability: 0.4792\n",
            "Image: test_set/ISIC_0026192.jpg - Predicted class: acne, Probability: 0.4126\n",
            "Image: test_set/ISIC_0026213.jpg - Predicted class: milia, Probability: 0.9676\n",
            "Image: test_set/ISIC_0026230.jpg - Predicted class: acne, Probability: 0.9670\n",
            "Image: test_set/ISIC_0026275.jpg - Predicted class: acne, Probability: 0.9729\n",
            "Image: test_set/ISIC_0026282.jpg - Predicted class: acne, Probability: 0.7624\n",
            "Image: test_set/ISIC_0026321.jpg - Predicted class: basal cell carcinoma, Probability: 0.6047\n",
            "Image: test_set/ISIC_0026324.jpg - Predicted class: milia, Probability: 0.9983\n",
            "Image: test_set/ISIC_0026343.jpg - Predicted class: milia, Probability: 0.3832\n",
            "Image: test_set/ISIC_0026350.jpg - Predicted class: milia, Probability: 0.7757\n",
            "Image: test_set/ISIC_0026395.jpg - Predicted class: actinic keratosis, Probability: 0.5094\n",
            "Image: test_set/ISIC_0026439.jpg - Predicted class: acne, Probability: 0.7569\n",
            "Image: test_set/ISIC_0026442.jpg - Predicted class: actinic keratosis, Probability: 0.6681\n",
            "Image: test_set/ISIC_0026453.jpg - Predicted class: actinic keratosis, Probability: 0.3254\n",
            "Image: test_set/ISIC_0026528.jpg - Predicted class: milia, Probability: 0.4448\n",
            "Image: test_set/ISIC_0026574.jpg - Predicted class: acne, Probability: 0.8752\n",
            "Image: test_set/ISIC_0026593.jpg - Predicted class: acne, Probability: 0.9105\n",
            "Image: test_set/ISIC_0026643.jpg - Predicted class: milia, Probability: 0.8802\n",
            "Image: test_set/ISIC_0026656.jpg - Predicted class: milia, Probability: 0.4288\n",
            "Image: test_set/ISIC_0026668.jpg - Predicted class: acne, Probability: 0.4849\n",
            "Image: test_set/ISIC_0026716.jpg - Predicted class: milia, Probability: 0.8800\n",
            "Image: test_set/ISIC_0026760.jpg - Predicted class: acne, Probability: 0.6642\n",
            "Image: test_set/ISIC_0026766.jpg - Predicted class: acne, Probability: 0.8858\n",
            "Image: test_set/ISIC_0026831.jpg - Predicted class: basal cell carcinoma, Probability: 0.5197\n",
            "Image: test_set/ISIC_0026988.jpg - Predicted class: freckle, Probability: 0.9091\n",
            "Image: test_set/ISIC_0027057.jpg - Predicted class: basal cell carcinoma, Probability: 0.4372\n",
            "Image: test_set/ISIC_0027058.jpg - Predicted class: basal cell carcinoma, Probability: 0.9687\n",
            "Image: test_set/ISIC_0027090.jpg - Predicted class: milia, Probability: 0.8163\n",
            "Image: test_set/ISIC_0027117.jpg - Predicted class: basal cell carcinoma, Probability: 0.7317\n",
            "Image: test_set/ISIC_0027135.jpg - Predicted class: acne, Probability: 0.9490\n",
            "Image: test_set/ISIC_0027146.jpg - Predicted class: basal cell carcinoma, Probability: 0.5665\n",
            "Image: test_set/ISIC_0027297.jpg - Predicted class: freckle, Probability: 0.6746\n",
            "Image: test_set/ISIC_0027365.jpg - Predicted class: basal cell carcinoma, Probability: 0.5249\n",
            "Image: test_set/ISIC_0027371.jpg - Predicted class: milia, Probability: 0.9542\n",
            "Image: test_set/ISIC_0027433.jpg - Predicted class: basal cell carcinoma, Probability: 0.8416\n",
            "Image: test_set/ISIC_0027478.jpg - Predicted class: milia, Probability: 0.3921\n",
            "Image: test_set/ISIC_0027526.jpg - Predicted class: milia, Probability: 0.3844\n",
            "Image: test_set/ISIC_0027544.jpg - Predicted class: freckle, Probability: 0.8591\n",
            "Image: test_set/ISIC_0027545.jpg - Predicted class: basal cell carcinoma, Probability: 0.3846\n",
            "Image: test_set/ISIC_0027601.jpg - Predicted class: milia, Probability: 0.6322\n",
            "Image: test_set/ISIC_0027609.jpg - Predicted class: acne, Probability: 0.3391\n",
            "Image: test_set/ISIC_0027631.jpg - Predicted class: actinic keratosis, Probability: 0.4746\n",
            "Image: test_set/ISIC_0027744.jpg - Predicted class: acne, Probability: 0.4998\n",
            "Image: test_set/ISIC_0027774.jpg - Predicted class: milia, Probability: 0.2734\n",
            "Image: test_set/ISIC_0027786.jpg - Predicted class: milia, Probability: 0.9917\n",
            "Image: test_set/ISIC_0027814.jpg - Predicted class: basal cell carcinoma, Probability: 0.9791\n",
            "Image: test_set/ISIC_0027851.jpg - Predicted class: basal cell carcinoma, Probability: 0.7328\n",
            "Image: test_set/ISIC_0027858.jpg - Predicted class: acne, Probability: 0.5587\n",
            "Image: test_set/ISIC_0027865.jpg - Predicted class: actinic keratosis, Probability: 0.6233\n",
            "Image: test_set/ISIC_0027976.jpg - Predicted class: milia, Probability: 0.9922\n",
            "Image: test_set/ISIC_0027998.jpg - Predicted class: basal cell carcinoma, Probability: 0.8946\n",
            "Image: test_set/ISIC_0028035.jpg - Predicted class: basal cell carcinoma, Probability: 0.4385\n",
            "Image: test_set/ISIC_0028059.jpg - Predicted class: milia, Probability: 0.9986\n",
            "Image: test_set/ISIC_0028079.jpg - Predicted class: basal cell carcinoma, Probability: 0.8383\n",
            "Image: test_set/ISIC_0028085.jpg - Predicted class: milia, Probability: 0.5164\n",
            "Image: test_set/ISIC_0028095.jpg - Predicted class: basal cell carcinoma, Probability: 0.6644\n",
            "Image: test_set/ISIC_0028106.jpg - Predicted class: acne, Probability: 0.9552\n",
            "Image: test_set/ISIC_0028155.jpg - Predicted class: acne, Probability: 0.9830\n",
            "Image: test_set/ISIC_0028238.jpg - Predicted class: basal cell carcinoma, Probability: 0.6088\n",
            "Image: test_set/ISIC_0028316.jpg - Predicted class: acne, Probability: 0.9030\n",
            "Image: test_set/ISIC_0028323.jpg - Predicted class: actinic keratosis, Probability: 0.5713\n",
            "Image: test_set/ISIC_0028457.jpg - Predicted class: acne, Probability: 0.7549\n",
            "Image: test_set/ISIC_0028486.jpg - Predicted class: basal cell carcinoma, Probability: 0.3577\n",
            "Image: test_set/ISIC_0028495.jpg - Predicted class: actinic keratosis, Probability: 0.7165\n",
            "Image: test_set/ISIC_0028570.jpg - Predicted class: acne, Probability: 0.5785\n",
            "Image: test_set/ISIC_0028670.jpg - Predicted class: basal cell carcinoma, Probability: 0.8126\n",
            "Image: test_set/ISIC_0028677.jpg - Predicted class: acne, Probability: 0.3680\n",
            "Image: test_set/ISIC_0028688.jpg - Predicted class: milia, Probability: 0.7778\n",
            "Image: test_set/ISIC_0028693.jpg - Predicted class: acne, Probability: 0.6166\n",
            "Image: test_set/ISIC_0028747.jpg - Predicted class: acne, Probability: 0.5183\n",
            "Image: test_set/ISIC_0028807.jpg - Predicted class: milia, Probability: 0.4461\n",
            "Image: test_set/ISIC_0028818.jpg - Predicted class: actinic keratosis, Probability: 0.3858\n",
            "Image: test_set/ISIC_0028858.jpg - Predicted class: freckle, Probability: 0.9936\n",
            "Image: test_set/ISIC_0028871.jpg - Predicted class: acne, Probability: 0.6589\n",
            "Image: test_set/ISIC_0028890.jpg - Predicted class: basal cell carcinoma, Probability: 0.9523\n",
            "Image: test_set/ISIC_0028980.jpg - Predicted class: basal cell carcinoma, Probability: 0.6346\n",
            "Image: test_set/ISIC_0028994.jpg - Predicted class: freckle, Probability: 0.4238\n",
            "Image: test_set/ISIC_0029020.jpg - Predicted class: basal cell carcinoma, Probability: 0.5083\n",
            "Image: test_set/ISIC_0029034.jpg - Predicted class: basal cell carcinoma, Probability: 0.4213\n",
            "Image: test_set/ISIC_0029192.jpg - Predicted class: acne, Probability: 0.5380\n",
            "Image: test_set/ISIC_0029193.jpg - Predicted class: milia, Probability: 0.7298\n",
            "Image: test_set/ISIC_0029201.jpg - Predicted class: milia, Probability: 0.9980\n",
            "Image: test_set/ISIC_0029230.jpg - Predicted class: basal cell carcinoma, Probability: 0.8511\n",
            "Image: test_set/ISIC_0029278.jpg - Predicted class: basal cell carcinoma, Probability: 0.8592\n",
            "Image: test_set/Milia101_jpg.rf.41fc1a9d8989151b9913c737cbf26806.jpg - Predicted class: acne, Probability: 0.4423\n",
            "Image: test_set/Milia105_jpg.rf.dd6c5d5d540a9a7e40b7d622dde6a06a.jpg - Predicted class: milia, Probability: 0.7908\n",
            "Image: test_set/Milia109_jpg.rf.10b885f11e4411d075d7587f72fafd51.jpg - Predicted class: acne, Probability: 0.9823\n",
            "Image: test_set/Milia118_jpg.rf.da3c8457507087f913b538ffbc83f408.jpg - Predicted class: basal cell carcinoma, Probability: 0.2993\n",
            "Image: test_set/Milia119_jpg.rf.ac0534c34b5b0ef19407444bd4875285.jpg - Predicted class: basal cell carcinoma, Probability: 0.4843\n",
            "Image: test_set/Milia120_jpg.rf.0ca32f2aa23f0a0ff779d7551e7bf0ac.jpg - Predicted class: actinic keratosis, Probability: 0.4778\n",
            "Image: test_set/Milia124_jpg.rf.57d10ecc3e904bbdeb9f61bbc75b515c.jpg - Predicted class: acne, Probability: 0.5425\n",
            "Image: test_set/Milia125_jpg.rf.2c49c60cd447050b697f0d35095f63a8.jpg - Predicted class: actinic keratosis, Probability: 0.5141\n",
            "Image: test_set/Milia126_jpg.rf.3865670f2ae127c57bb28f2a787edc5c.jpg - Predicted class: milia, Probability: 0.8351\n",
            "Image: test_set/Milia126_jpg.rf.ec82f740d1bcdcb90743d78b5b15c899.jpg - Predicted class: milia, Probability: 0.7871\n",
            "Image: test_set/Milia128_jpg.rf.b156f5b2eefebbd954dbb8215f71baf9.jpg - Predicted class: milia, Probability: 0.7417\n",
            "Image: test_set/Milia132_jpg.rf.a9b09b0b75ccb81b1b2a40acb06d5362.jpg - Predicted class: basal cell carcinoma, Probability: 0.6361\n",
            "Image: test_set/Milia133_jpg.rf.39b0f378cce521f27e8a801b1ea61963.jpg - Predicted class: actinic keratosis, Probability: 0.5345\n",
            "Image: test_set/Milia148_jpg.rf.6aa94c57d620a9d112a5b0b933257a61.jpg - Predicted class: basal cell carcinoma, Probability: 0.5510\n",
            "Image: test_set/Milia14_jpg.rf.8d40fa08ff61b0ae46c7333a06b00768.jpg - Predicted class: acne, Probability: 0.5717\n",
            "Image: test_set/Milia151_jpg.rf.86aa1ebf8be667a5a4ae9634b18ddc00.jpg - Predicted class: milia, Probability: 0.4053\n",
            "Image: test_set/Milia153_jpg.rf.3cd2b3e2ad18dd03ff3830626efcb921.jpg - Predicted class: acne, Probability: 0.9977\n",
            "Image: test_set/Milia156_jpg.rf.4f257059842eccd0637861eb1ca203fc.jpg - Predicted class: freckle, Probability: 0.9815\n",
            "Image: test_set/Milia161_jpg.rf.52c89185b0ea71b4c7e22f108539ee70.jpg - Predicted class: freckle, Probability: 0.3870\n",
            "Image: test_set/Milia163_jpg.rf.4cc728f8a77cce99566f170b05d06db5.jpg - Predicted class: milia, Probability: 0.6639\n",
            "Image: test_set/Milia163_jpg.rf.f83e9beeb1ab6e94011553b67f771082.jpg - Predicted class: basal cell carcinoma, Probability: 0.5027\n",
            "Image: test_set/Milia172_jpg.rf.f1d97e520ee9c43e4f956b2b85bc5cb4.jpg - Predicted class: acne, Probability: 0.4108\n",
            "Image: test_set/Milia178_jpg.rf.5fa34f4afd15c7f31f2bef383e0c8c97.jpg - Predicted class: actinic keratosis, Probability: 0.3222\n",
            "Image: test_set/Milia178_jpg.rf.cf5f3a306988615753766aec0722d37f.jpg - Predicted class: basal cell carcinoma, Probability: 0.5687\n",
            "Image: test_set/Milia18_jpg.rf.c8610beb12b6f7d23a8de2558ad58ebc.jpg - Predicted class: freckle, Probability: 0.8177\n",
            "Image: test_set/Milia199_jpg.rf.54b6660da208e05af006fe5a232b9461.jpg - Predicted class: basal cell carcinoma, Probability: 0.6377\n",
            "Image: test_set/Milia204_jpg.rf.33834e2b49594ddb3968ab5578c40e27.jpg - Predicted class: acne, Probability: 0.3157\n",
            "Image: test_set/Milia208_jpg.rf.2e0b5ab5811e91ecb048d53334e5cabb.jpg - Predicted class: acne, Probability: 0.9948\n",
            "Image: test_set/Milia20_jpg.rf.b1083bb0e2ac8f3eb3816cffbd9b66ac.jpg - Predicted class: milia, Probability: 0.6149\n",
            "Image: test_set/Milia212_jpg.rf.6776c2e234666e1790402a5c200ac020.jpg - Predicted class: milia, Probability: 0.4987\n",
            "Image: test_set/Milia217_jpg.rf.5d85dc2872ea78327702eeb95befcb75.jpg - Predicted class: basal cell carcinoma, Probability: 0.4146\n",
            "Image: test_set/Milia218_jpg.rf.091de96be625ec253932af85855fea81.jpg - Predicted class: basal cell carcinoma, Probability: 0.7857\n",
            "Image: test_set/Milia21_jpg.rf.36d8b03974593bdeef194b3c06ec488b.jpg - Predicted class: basal cell carcinoma, Probability: 0.7889\n",
            "Image: test_set/Milia220_jpg.rf.405ec0977cfcb9516542802d595fccfb.jpg - Predicted class: basal cell carcinoma, Probability: 0.5789\n",
            "Image: test_set/Milia223_jpg.rf.25d4129c850868ccbf4eb36d389c3990.jpg - Predicted class: basal cell carcinoma, Probability: 0.6037\n",
            "Image: test_set/Milia223_jpg.rf.ed46ec45313cb3a3b47d68d6b06bea63.jpg - Predicted class: freckle, Probability: 0.4404\n",
            "Image: test_set/Milia226_jpg.rf.b9056b21750b5db4def65d5d2b64572d.jpg - Predicted class: basal cell carcinoma, Probability: 0.8764\n",
            "Image: test_set/Milia228_jpg.rf.139d4ec1904a6c0b2ba0de5a3f9488b3.jpg - Predicted class: actinic keratosis, Probability: 0.4886\n",
            "Image: test_set/Milia228_jpg.rf.6cbc749b559f83d3d78a3592cddb2cb0.jpg - Predicted class: basal cell carcinoma, Probability: 0.6506\n",
            "Image: test_set/Milia228_jpg.rf.c8d3074d3200d011aa321b633ac312f8.jpg - Predicted class: basal cell carcinoma, Probability: 0.4949\n",
            "Image: test_set/Milia239_jpg.rf.216a24b656b3afdad7e6da86cf01185c.jpg - Predicted class: acne, Probability: 0.5930\n",
            "Image: test_set/Milia241_jpg.rf.564af0aace99c3d4cbc77fef5e6fd983.jpg - Predicted class: basal cell carcinoma, Probability: 0.5615\n",
            "Image: test_set/Milia243_jpg.rf.7d0280c9afd6c32f4d1273cc437bd9a5.jpg - Predicted class: acne, Probability: 0.9844\n",
            "Image: test_set/Milia244_jpg.rf.3fbab3329ab50b66ca0be55f25db71bf.jpg - Predicted class: basal cell carcinoma, Probability: 0.5936\n",
            "Image: test_set/Milia245_jpg.rf.f9d90e7f1bb478ec540e168ba3844011.jpg - Predicted class: acne, Probability: 0.7904\n",
            "Image: test_set/Milia247_jpg.rf.6a7c98a46e34098fa6fe32cc5da023be.jpg - Predicted class: milia, Probability: 0.9403\n",
            "Image: test_set/Milia250_jpg.rf.20034e108d48a5bf8bc9460a05811378.jpg - Predicted class: acne, Probability: 0.4134\n",
            "Image: test_set/Milia253_jpg.rf.c9d3e7a8bd6ebfe7577b30251de0fb38.jpg - Predicted class: basal cell carcinoma, Probability: 0.6305\n",
            "Image: test_set/Milia256_jpg.rf.a34378ebdbb29a7036ff9c96be9eabaf.jpg - Predicted class: basal cell carcinoma, Probability: 0.9120\n",
            "Image: test_set/Milia257_jpg.rf.26c75cf08358ee6ed212e297f475ee54.jpg - Predicted class: milia, Probability: 0.9960\n",
            "Image: test_set/Milia263_jpg.rf.67d466a1eb0de8dc3eb1b339628b9b26.jpg - Predicted class: basal cell carcinoma, Probability: 0.5396\n",
            "Image: test_set/Milia265_jpg.rf.57697c03e95812255908894d222d771c.jpg - Predicted class: milia, Probability: 0.5875\n",
            "Image: test_set/Milia266_jpg.rf.4de25794ad02351d1d31dc3656b12c09.jpg - Predicted class: milia, Probability: 0.4436\n",
            "Image: test_set/Milia267_jpg.rf.ad1c95ffbccc40d0ee1e61d41edada44.jpg - Predicted class: basal cell carcinoma, Probability: 0.8074\n",
            "Image: test_set/Milia267_jpg.rf.ef1e4335030bc5f3465fee2db654d3bd.jpg - Predicted class: acne, Probability: 0.4916\n",
            "Image: test_set/Milia33_jpg.rf.2ff0082f9d8223b972c37b961fd1ef7e.jpg - Predicted class: freckle, Probability: 0.4753\n",
            "Image: test_set/Milia33_jpg.rf.a862d0ed0d8e8bd4b1fbe925ed5232f9.jpg - Predicted class: acne, Probability: 0.9411\n",
            "Image: test_set/Milia3_jpg.rf.c2ea06135f70f949ad53611fb246dccd.jpg - Predicted class: actinic keratosis, Probability: 0.6562\n",
            "Image: test_set/Milia41_jpg.rf.99cefa571c4e17c62c9044472f1720e2.jpg - Predicted class: basal cell carcinoma, Probability: 0.4878\n",
            "Image: test_set/Milia46_jpg.rf.21b7f21941ae4abc98de89d9a3675b58.jpg - Predicted class: acne, Probability: 0.5067\n",
            "Image: test_set/Milia46_jpg.rf.3ba79be6f3347b4399996ce72db6b854.jpg - Predicted class: basal cell carcinoma, Probability: 0.5510\n",
            "Image: test_set/Milia4_jpg.rf.7914aea27b4ab87ce9c56e03d9793316.jpg - Predicted class: freckle, Probability: 0.8148\n",
            "Image: test_set/Milia50_jpg.rf.ec251cfd1acbe8b44f007be67fd5fe79.jpg - Predicted class: acne, Probability: 0.7823\n",
            "Image: test_set/Milia53_jpg.rf.62fec790ffe4d9d8f753c1b11df9e28a.jpg - Predicted class: basal cell carcinoma, Probability: 0.9930\n",
            "Image: test_set/Milia54_jpg.rf.8a9b7a1112e1dc453af99991afbdb7e8.jpg - Predicted class: basal cell carcinoma, Probability: 0.9829\n",
            "Image: test_set/Milia56_jpg.rf.7b480d8fb6305f642df8895616760bd5.jpg - Predicted class: basal cell carcinoma, Probability: 0.6024\n",
            "Image: test_set/Milia57_jpg.rf.a381b0772d958b4f9e73bbf35bc99b97.jpg - Predicted class: basal cell carcinoma, Probability: 0.9689\n",
            "Image: test_set/Milia60_jpg.rf.8a19240d53ec2ecf7a4ff2cc8d4b3fa1.jpg - Predicted class: acne, Probability: 0.9612\n",
            "Image: test_set/Milia64_jpg.rf.595cba2dc14c8fcee4395ddff583c5f8.jpg - Predicted class: freckle, Probability: 0.4630\n",
            "Image: test_set/Milia65_jpg.rf.afac5cc4e566086dc4b22b92e0e5c316.jpg - Predicted class: basal cell carcinoma, Probability: 0.8130\n",
            "Image: test_set/Milia68_jpg.rf.d67bece98a27dc977b8ee09925658d20.jpg - Predicted class: basal cell carcinoma, Probability: 0.8192\n",
            "Image: test_set/Milia70_jpg.rf.313459a3fcdb13c1fd096cfa1db8773d.jpg - Predicted class: acne, Probability: 0.9341\n",
            "Image: test_set/Milia74_jpg.rf.9ff35b0cdbd6217084b03c7e395a4b4a.jpg - Predicted class: acne, Probability: 0.9099\n",
            "Image: test_set/Milia80_jpg.rf.817b44a91e0aa2d19ce20e19158eccb6.jpg - Predicted class: acne, Probability: 0.6071\n",
            "Image: test_set/Milia82_jpg.rf.8db6b57e11394256879b2642e8d64071.jpg - Predicted class: basal cell carcinoma, Probability: 0.8002\n",
            "Image: test_set/Milia85_jpg.rf.8e7d050cc9bac3c51082b9c82ea05b3c.jpg - Predicted class: basal cell carcinoma, Probability: 0.6985\n",
            "Image: test_set/Milia88_jpg.rf.5a9eef5994a9c8e781ed8e5b33db346b.jpg - Predicted class: basal cell carcinoma, Probability: 0.7473\n",
            "Image: test_set/Milia88_jpg.rf.66d2fdb0d9e70f39cc026332e1ea90e1.jpg - Predicted class: milia, Probability: 0.4505\n",
            "Image: test_set/Milia89_jpg.rf.821d4f739f62ebeb3399a33e521cf8e8.jpg - Predicted class: basal cell carcinoma, Probability: 0.9080\n",
            "Image: test_set/Milia90_jpg.rf.261783afc24a01a05fb1c13c6f6510b7.jpg - Predicted class: actinic keratosis, Probability: 0.6080\n",
            "Image: test_set/actinic-keratosis-5FU-10--2-_jpg.rf.c7d9d6676d3fed02680a5d2d74d89ebc.jpg - Predicted class: acne, Probability: 0.4103\n",
            "Image: test_set/actinic-keratosis-5FU-10--3-_jpg.rf.1e2a9e27dc3b54ac6d027c1212230557.jpg - Predicted class: basal cell carcinoma, Probability: 0.8232\n",
            "Image: test_set/actinic-keratosis-5FU-10--4-_jpg.rf.ef243ae37fcac91fca75419be9d75b32.jpg - Predicted class: actinic keratosis, Probability: 0.8194\n",
            "Image: test_set/actinic-keratosis-5FU-11--2-_jpg.rf.65411470038c1486a81f4061d034803a.jpg - Predicted class: freckle, Probability: 0.6570\n",
            "Image: test_set/actinic-keratosis-5FU-11--3-_jpg.rf.e351c33fd562060070bd3d46f2d7a981.jpg - Predicted class: acne, Probability: 0.7714\n",
            "Image: test_set/actinic-keratosis-5FU-11_jpg.rf.568fb0ca546105a0f3b7cbd47a160c23.jpg - Predicted class: basal cell carcinoma, Probability: 0.6299\n",
            "Image: test_set/actinic-keratosis-5FU-12--2-_jpg.rf.6f636a04186400d7d91bb349db7f9d9b.jpg - Predicted class: basal cell carcinoma, Probability: 0.8694\n",
            "Image: test_set/actinic-keratosis-5FU-12--3-_jpg.rf.07e22f4ea134ce620c8a3d0c33b20f3b.jpg - Predicted class: milia, Probability: 0.9175\n",
            "Image: test_set/actinic-keratosis-5FU-12--4-_jpg.rf.a64946b07a45b77b1c54d30651b6743f.jpg - Predicted class: freckle, Probability: 0.7327\n",
            "Image: test_set/actinic-keratosis-5FU-12_jpg.rf.af13229848f234fbf9d68a2a7d992d86.jpg - Predicted class: actinic keratosis, Probability: 0.5102\n",
            "Image: test_set/actinic-keratosis-5FU-13--2-_jpg.rf.e65d24aba7d8ac45b531dc6843d183d4.jpg - Predicted class: acne, Probability: 0.3241\n",
            "Image: test_set/actinic-keratosis-5FU-13_jpg.rf.a5cf0ee62465e3f1611c2b30ef751391.jpg - Predicted class: basal cell carcinoma, Probability: 0.5231\n",
            "Image: test_set/actinic-keratosis-5FU-15--2-_jpg.rf.a2de2903abb5e41758d5e2aa77bba1d8.jpg - Predicted class: basal cell carcinoma, Probability: 0.3558\n",
            "Image: test_set/actinic-keratosis-5FU-15--3-_jpg.rf.f8c9c80f1fc1c7a9199f2ab958178ab3.jpg - Predicted class: acne, Probability: 0.5071\n",
            "Image: test_set/actinic-keratosis-5FU-15--4-_jpg.rf.462720553319d138c5133416f4d258f0.jpg - Predicted class: actinic keratosis, Probability: 0.6244\n",
            "Image: test_set/actinic-keratosis-5FU-17--2-_jpg.rf.065d580292f040baad22d38d7c4ee062.jpg - Predicted class: milia, Probability: 0.9889\n",
            "Image: test_set/actinic-keratosis-5FU-17_jpg.rf.e5ef9028187ec3b15d87a9509127edac.jpg - Predicted class: basal cell carcinoma, Probability: 0.4885\n",
            "Image: test_set/actinic-keratosis-5FU-18_jpg.rf.fcda11171ad73bf8770b1b1b8bad78dc.jpg - Predicted class: milia, Probability: 0.6470\n",
            "Image: test_set/actinic-keratosis-5FU-19--2-_jpg.rf.5657583b90abd5bfbe854a3c3facbed0.jpg - Predicted class: milia, Probability: 0.7855\n",
            "Image: test_set/actinic-keratosis-5FU-19_jpg.rf.f5a0da2af197c560a532d3e9865e194a.jpg - Predicted class: acne, Probability: 0.7837\n",
            "Image: test_set/actinic-keratosis-5FU-2--3-_jpg.rf.0aeb5f1ccab976a84b721109cb58e3d3.jpg - Predicted class: basal cell carcinoma, Probability: 0.4534\n",
            "Image: test_set/actinic-keratosis-5FU-21--2-_jpg.rf.ac10d3a051c27462b27c901f327d4520.jpg - Predicted class: milia, Probability: 0.4991\n",
            "Image: test_set/actinic-keratosis-5FU-21_jpg.rf.a95c32a49f6c27fb87545765205a2bb1.jpg - Predicted class: acne, Probability: 0.7658\n",
            "Image: test_set/actinic-keratosis-5FU-22--2-_jpg.rf.62c583caf2955f1272b02299d5d1a7b1.jpg - Predicted class: basal cell carcinoma, Probability: 0.4918\n",
            "Image: test_set/actinic-keratosis-5FU-22_jpg.rf.ddd45db9e2a60e24c87db07ca87c0f6d.jpg - Predicted class: acne, Probability: 0.5671\n",
            "Image: test_set/actinic-keratosis-5FU-24_jpg.rf.e1e1d396e7bbcebc9d7b81010c1b843b.jpg - Predicted class: acne, Probability: 0.5833\n",
            "Image: test_set/actinic-keratosis-5FU-26_jpg.rf.258e507476c8369c321cee7165d49cbd.jpg - Predicted class: milia, Probability: 0.5497\n",
            "Image: test_set/actinic-keratosis-5FU-28_jpg.rf.f3dbccf8d5a2675d7a412bd5ceb87951.jpg - Predicted class: basal cell carcinoma, Probability: 0.8876\n",
            "Image: test_set/actinic-keratosis-5FU-3--2-_jpg.rf.53e4263038c9149f9b3ed5b55657c3bd.jpg - Predicted class: acne, Probability: 0.5810\n",
            "Image: test_set/actinic-keratosis-5FU-3--3-_jpg.rf.3b3c3d66609d47a0583fa75ea0cac203.jpg - Predicted class: actinic keratosis, Probability: 0.3702\n",
            "Image: test_set/actinic-keratosis-5FU-3--4-_jpg.rf.1e5f268d0e38fd083b68d8e63239f6b9.jpg - Predicted class: basal cell carcinoma, Probability: 0.9211\n",
            "Image: test_set/actinic-keratosis-5FU-30_jpg.rf.7c55c74daf948a3b530f6648b6960bf0.jpg - Predicted class: milia, Probability: 0.3861\n",
            "Image: test_set/actinic-keratosis-5FU-31--2-_jpg.rf.c82f5cb7c238a745659bb979f4e427f6.jpg - Predicted class: milia, Probability: 0.6566\n",
            "Image: test_set/actinic-keratosis-5FU-31_jpg.rf.de25e381d1b94de6946d1b68f8d34ac8.jpg - Predicted class: milia, Probability: 0.4183\n",
            "Image: test_set/actinic-keratosis-5FU-32_jpg.rf.aa9cc90209f1b2fe00f2bffd99b98943.jpg - Predicted class: actinic keratosis, Probability: 0.3258\n",
            "Image: test_set/actinic-keratosis-5FU-33_jpg.rf.5904c7f5c2878ef6540088c012e14223.jpg - Predicted class: milia, Probability: 0.8784\n",
            "Image: test_set/actinic-keratosis-5FU-34_jpg.rf.033c74233234ca1cfdaf2a83f2275755.jpg - Predicted class: actinic keratosis, Probability: 0.5291\n",
            "Image: test_set/actinic-keratosis-5FU-35_jpg.rf.6c59c98b8db4afb502b6f1075265628e.jpg - Predicted class: basal cell carcinoma, Probability: 0.4176\n",
            "Image: test_set/actinic-keratosis-5FU-36--2-_jpg.rf.93eecc22cd50b21e269949f7ad6f03ec.jpg - Predicted class: acne, Probability: 0.8797\n",
            "Image: test_set/actinic-keratosis-5FU-36_jpg.rf.0d992cf95ea71f2d08d1ea0f526df109.jpg - Predicted class: basal cell carcinoma, Probability: 0.7819\n",
            "Image: test_set/actinic-keratosis-5FU-37--2-_jpg.rf.f0a6fb0bf544618ce1feb01e5c80d87b.jpg - Predicted class: acne, Probability: 0.8490\n",
            "Image: test_set/actinic-keratosis-5FU-37_jpg.rf.4574d1dbc206d692f8eeb5120b670783.jpg - Predicted class: milia, Probability: 0.6645\n",
            "Image: test_set/actinic-keratosis-5FU-38_jpg.rf.90f0c520ce9bdcaaf8a425d83789443d.jpg - Predicted class: acne, Probability: 0.7437\n",
            "Image: test_set/actinic-keratosis-5FU-41_jpg.rf.a499c1bf6e3916eeb0e5cabdb24858cd.jpg - Predicted class: acne, Probability: 0.4571\n",
            "Image: test_set/actinic-keratosis-5FU-42_jpg.rf.46750ac1e5712dc8a3cea83cd73aba1c.jpg - Predicted class: milia, Probability: 0.8791\n",
            "Image: test_set/actinic-keratosis-5FU-43_jpg.rf.02fadb83df53b3eecc6cf8ced60cbf2a.jpg - Predicted class: freckle, Probability: 0.8203\n",
            "Image: test_set/actinic-keratosis-5FU-44_jpg.rf.c6afec6a99689794192ee2f54096fea7.jpg - Predicted class: basal cell carcinoma, Probability: 0.6646\n",
            "Image: test_set/actinic-keratosis-5FU-45_jpg.rf.facc9a5144f7891f157315389b5229eb.jpg - Predicted class: acne, Probability: 0.9618\n",
            "Image: test_set/actinic-keratosis-5FU-46_jpg.rf.5cdad41e6f5fba5102670f851bc5986a.jpg - Predicted class: actinic keratosis, Probability: 0.9247\n",
            "Image: test_set/actinic-keratosis-5FU-49--2-_jpg.rf.13e7d692fe647923f4abfcd8fd50aade.jpg - Predicted class: basal cell carcinoma, Probability: 0.4074\n",
            "Image: test_set/actinic-keratosis-5FU-49--3-_jpg.rf.8631c79ed94b870694ca99c398f75fa2.jpg - Predicted class: milia, Probability: 0.5703\n",
            "Image: test_set/actinic-keratosis-5FU-49_jpg.rf.a4df60c42b842e7e4f4071fbe673929a.jpg - Predicted class: milia, Probability: 0.9267\n",
            "Image: test_set/actinic-keratosis-5FU-5--2-_jpg.rf.a91d00472499bd6d84ea989fab1cdb6b.jpg - Predicted class: acne, Probability: 0.5179\n",
            "Image: test_set/actinic-keratosis-5FU-5--3-_jpg.rf.6adbd1d455f362831842e3adcb9a2c1a.jpg - Predicted class: basal cell carcinoma, Probability: 0.4903\n",
            "Image: test_set/actinic-keratosis-5FU-50_jpg.rf.945af8537a538d7300d636e05b161af0.jpg - Predicted class: basal cell carcinoma, Probability: 0.9978\n",
            "Image: test_set/actinic-keratosis-5FU-51_jpg.rf.0b26daa5605d08da46259f440201d483.jpg - Predicted class: milia, Probability: 0.3852\n",
            "Image: test_set/actinic-keratosis-5FU-52_jpg.rf.a0b0b70da362cbfa1ea76de47c11e425.jpg - Predicted class: acne, Probability: 0.8436\n",
            "Image: test_set/actinic-keratosis-5FU-53_jpg.rf.0a6502d5f9ada00a6502917503c92c20.jpg - Predicted class: acne, Probability: 0.9391\n",
            "Image: test_set/actinic-keratosis-5FU-55_jpg.rf.74c1ebd575cd866cb1a3a5190e5199e3.jpg - Predicted class: freckle, Probability: 0.8672\n",
            "Image: test_set/actinic-keratosis-5FU-56--2-_jpg.rf.e2ae12b228e444a7a62cd3c08006150d.jpg - Predicted class: acne, Probability: 0.7837\n",
            "Image: test_set/actinic-keratosis-5FU-56_jpg.rf.d47ee51f6a728f94b53c4bd6522ada16.jpg - Predicted class: milia, Probability: 0.9827\n",
            "Image: test_set/actinic-keratosis-5FU-57_jpg.rf.e1e3c9c36b60032560990144c895d8d1.jpg - Predicted class: acne, Probability: 0.6589\n",
            "Image: test_set/actinic-keratosis-5FU-58_jpg.rf.6b408bdc19da765e8b7932e586e8b907.jpg - Predicted class: basal cell carcinoma, Probability: 0.3781\n",
            "Image: test_set/actinic-keratosis-5FU-5_jpg.rf.b5167639446c60d6d06c274d312d99fe.jpg - Predicted class: milia, Probability: 0.9660\n",
            "Image: test_set/actinic-keratosis-5FU-6--2-_jpg.rf.597854d54a46e66853e7b3a3130d3455.jpg - Predicted class: freckle, Probability: 0.6322\n",
            "Image: test_set/actinic-keratosis-5FU-6--3-_jpg.rf.826641288f53963499f6bf99b47ab7b5.jpg - Predicted class: basal cell carcinoma, Probability: 0.8191\n",
            "Image: test_set/actinic-keratosis-5FU-60_jpg.rf.0d6cd9c49958edaf1f61936d7a6d4236.jpg - Predicted class: basal cell carcinoma, Probability: 0.9826\n",
            "Image: test_set/actinic-keratosis-5FU-61_jpg.rf.c9d40d08944866cbf41f300f2dbe6669.jpg - Predicted class: acne, Probability: 0.4998\n",
            "Image: test_set/actinic-keratosis-5FU-62--2-_jpg.rf.93be4983b6f3f3384b2ef2dbe39e92e9.jpg - Predicted class: milia, Probability: 0.5272\n",
            "Image: test_set/actinic-keratosis-5FU-62_jpg.rf.3bbf85a9ebf003c27d8ef87148d6f4be.jpg - Predicted class: freckle, Probability: 0.6231\n",
            "Image: test_set/actinic-keratosis-5FU-63--2-_jpg.rf.1f8b2069f7235b1a5c410c09c8b21239.jpg - Predicted class: milia, Probability: 0.4605\n",
            "Image: test_set/actinic-keratosis-5FU-63--3-_jpg.rf.1f30d6b2e535021fffebf17e9f83fecc.jpg - Predicted class: basal cell carcinoma, Probability: 0.6787\n",
            "Image: test_set/actinic-keratosis-5FU-63_jpg.rf.ce53fdd6d9850c7bddb7d311c1e6a1dc.jpg - Predicted class: basal cell carcinoma, Probability: 0.4586\n",
            "Image: test_set/actinic-keratosis-5FU-65_jpg.rf.8f5cbe90a08aeddef210836279532144.jpg - Predicted class: basal cell carcinoma, Probability: 0.6799\n",
            "Image: test_set/actinic-keratosis-5FU-66_jpg.rf.d107e0d55439267b94646295153154d6.jpg - Predicted class: acne, Probability: 0.7794\n",
            "Image: test_set/actinic-keratosis-5FU-67_jpg.rf.3c31e36780b7bb4403087e9814c416c7.jpg - Predicted class: actinic keratosis, Probability: 0.4777\n",
            "Image: test_set/actinic-keratosis-5FU-68--2-_jpg.rf.fe93a2306595c1dc116e2b6ec795a1fd.jpg - Predicted class: acne, Probability: 0.5817\n",
            "Image: test_set/actinic-keratosis-5FU-68_jpg.rf.2d516c241d3a2b5c87fabfbce5e30bda.jpg - Predicted class: actinic keratosis, Probability: 0.3823\n",
            "Image: test_set/actinic-keratosis-5FU-7--2-_jpg.rf.65b93f2bc0697847f0900b6a4f31e356.jpg - Predicted class: acne, Probability: 0.7659\n",
            "Image: test_set/actinic-keratosis-5FU-7--3-_jpg.rf.3a77a381611bc92cecc2fd5f3a9bdcd6.jpg - Predicted class: acne, Probability: 0.5647\n",
            "Image: test_set/ak003.jpg - Predicted class: acne, Probability: 0.7392\n",
            "Image: test_set/ak004.jpg - Predicted class: acne, Probability: 0.9995\n",
            "Image: test_set/ak02.jpg - Predicted class: acne, Probability: 0.8621\n",
            "Image: test_set/ak03.jpg - Predicted class: milia, Probability: 0.5069\n",
            "Image: test_set/ak04.jpg - Predicted class: acne, Probability: 0.5494\n",
            "Image: test_set/ak1.jpg - Predicted class: basal cell carcinoma, Probability: 0.9906\n",
            "Image: test_set/ak10.jpeg - Predicted class: basal cell carcinoma, Probability: 0.7944\n",
            "Image: test_set/ak101.jpg - Predicted class: basal cell carcinoma, Probability: 0.6889\n",
            "Image: test_set/ak11.jpeg - Predicted class: actinic keratosis, Probability: 0.6581\n",
            "Image: test_set/ak12.jpeg - Predicted class: freckle, Probability: 0.4790\n",
            "Image: test_set/ak13.jpeg - Predicted class: acne, Probability: 0.5057\n",
            "Image: test_set/ak14.jpeg - Predicted class: actinic keratosis, Probability: 0.4688\n",
            "Image: test_set/ak15.png - Predicted class: acne, Probability: 0.9915\n",
            "Image: test_set/ak16.jpg - Predicted class: freckle, Probability: 0.5154\n",
            "Image: test_set/ak17.jpeg - Predicted class: basal cell carcinoma, Probability: 0.9422\n",
            "Image: test_set/ak18.jpeg - Predicted class: basal cell carcinoma, Probability: 0.4917\n",
            "Image: test_set/ak19.jpeg - Predicted class: basal cell carcinoma, Probability: 0.9192\n",
            "Image: test_set/ak2.png - Predicted class: basal cell carcinoma, Probability: 0.6330\n",
            "Image: test_set/ak20.png - Predicted class: basal cell carcinoma, Probability: 0.5641\n",
            "Image: test_set/ak21.png - Predicted class: basal cell carcinoma, Probability: 0.4809\n",
            "Image: test_set/ak22.jpeg - Predicted class: acne, Probability: 0.9894\n",
            "Image: test_set/ak23.jpeg - Predicted class: milia, Probability: 0.4396\n",
            "Image: test_set/ak24.jpeg - Predicted class: basal cell carcinoma, Probability: 0.4872\n",
            "Image: test_set/ak25.jpeg - Predicted class: milia, Probability: 0.6096\n",
            "Image: test_set/ak26.jpeg - Predicted class: milia, Probability: 0.8823\n",
            "Image: test_set/ak27.jpeg - Predicted class: basal cell carcinoma, Probability: 0.8009\n",
            "Image: test_set/ak28.png - Predicted class: freckle, Probability: 0.9590\n",
            "Image: test_set/ak29.jpeg - Predicted class: acne, Probability: 0.7283\n",
            "Image: test_set/ak3.jpg - Predicted class: milia, Probability: 0.8251\n",
            "Image: test_set/ak30.jpeg - Predicted class: actinic keratosis, Probability: 0.5536\n",
            "Image: test_set/ak4.jpg - Predicted class: freckle, Probability: 0.7107\n",
            "Image: test_set/ak5.jpeg - Predicted class: basal cell carcinoma, Probability: 0.4336\n",
            "Image: test_set/ak6.jpeg - Predicted class: basal cell carcinoma, Probability: 0.5135\n",
            "Image: test_set/ak7.jpeg - Predicted class: milia, Probability: 0.4275\n",
            "Image: test_set/ak8.jpg - Predicted class: freckle, Probability: 0.9608\n",
            "Image: test_set/ak9.jpg - Predicted class: freckle, Probability: 0.8419\n",
            "Image: test_set/basal.jpeg - Predicted class: acne, Probability: 0.4122\n",
            "Image: test_set/basal006.jpg - Predicted class: milia, Probability: 0.6123\n",
            "Image: test_set/basal1.jpg - Predicted class: basal cell carcinoma, Probability: 0.6807\n",
            "Image: test_set/basal10.jpg - Predicted class: acne, Probability: 0.6921\n",
            "Image: test_set/basal11.jpg - Predicted class: acne, Probability: 0.8490\n",
            "Image: test_set/basal13.jpg - Predicted class: basal cell carcinoma, Probability: 0.5574\n",
            "Image: test_set/basal14.jpg - Predicted class: basal cell carcinoma, Probability: 0.6264\n",
            "Image: test_set/basal15.jpg - Predicted class: freckle, Probability: 0.7798\n",
            "Image: test_set/basal16.jpg - Predicted class: acne, Probability: 0.6466\n",
            "Image: test_set/basal17.jpg - Predicted class: actinic keratosis, Probability: 0.3258\n",
            "Image: test_set/basal18.jpg - Predicted class: milia, Probability: 0.5906\n",
            "Image: test_set/basal19.jpg - Predicted class: acne, Probability: 0.8253\n",
            "Image: test_set/basal2.jpg - Predicted class: basal cell carcinoma, Probability: 0.4485\n",
            "Image: test_set/basal20.jpg - Predicted class: acne, Probability: 0.5403\n",
            "Image: test_set/basal23.jpg - Predicted class: milia, Probability: 0.3658\n",
            "Image: test_set/basal24.jpg - Predicted class: freckle, Probability: 0.8801\n",
            "Image: test_set/basal25.jpg - Predicted class: actinic keratosis, Probability: 0.7096\n",
            "Image: test_set/basal26.jpg - Predicted class: freckle, Probability: 0.5462\n",
            "Image: test_set/basal27.jpg - Predicted class: acne, Probability: 0.6805\n",
            "Image: test_set/basal4.png - Predicted class: basal cell carcinoma, Probability: 0.6456\n",
            "Image: test_set/basal6.jpg - Predicted class: acne, Probability: 0.9999\n",
            "Image: test_set/basal6_jpg.rf.f6263714f5f3c0f0f69d0355f614714d.jpg - Predicted class: acne, Probability: 0.9948\n",
            "Image: test_set/freckles1.jpg - Predicted class: basal cell carcinoma, Probability: 0.5232\n",
            "Image: test_set/freckles10.jpg - Predicted class: milia, Probability: 0.5976\n",
            "Image: test_set/freckles11.jpg - Predicted class: milia, Probability: 0.8592\n",
            "Image: test_set/freckles12.jpeg - Predicted class: actinic keratosis, Probability: 0.3731\n",
            "Image: test_set/freckles13.jpg - Predicted class: acne, Probability: 0.9850\n",
            "Image: test_set/freckles14.jpg - Predicted class: actinic keratosis, Probability: 0.6195\n",
            "Image: test_set/freckles15.jpeg - Predicted class: actinic keratosis, Probability: 0.6416\n",
            "Image: test_set/freckles16.jpeg - Predicted class: acne, Probability: 0.9830\n",
            "Image: test_set/freckles17.jpeg - Predicted class: acne, Probability: 0.3553\n",
            "Image: test_set/freckles18.jpeg - Predicted class: freckle, Probability: 0.7070\n",
            "Image: test_set/freckles19.jpeg - Predicted class: milia, Probability: 0.4472\n",
            "Image: test_set/freckles20.jpg - Predicted class: basal cell carcinoma, Probability: 0.7223\n",
            "Image: test_set/freckles21.jpeg - Predicted class: freckle, Probability: 0.5347\n",
            "Image: test_set/freckles22.jpg - Predicted class: acne, Probability: 0.6060\n",
            "Image: test_set/freckles23.jpeg - Predicted class: acne, Probability: 0.6752\n",
            "Image: test_set/freckles24.jpeg - Predicted class: basal cell carcinoma, Probability: 0.4218\n",
            "Image: test_set/freckles25.jpeg - Predicted class: basal cell carcinoma, Probability: 0.8127\n",
            "Image: test_set/freckles26.jpeg - Predicted class: actinic keratosis, Probability: 0.5046\n",
            "Image: test_set/freckles27.jpeg - Predicted class: acne, Probability: 0.9864\n",
            "Image: test_set/freckles28.jpeg - Predicted class: freckle, Probability: 0.9962\n",
            "Image: test_set/freckles29.jpeg - Predicted class: acne, Probability: 0.8719\n",
            "Image: test_set/freckles3.jpg - Predicted class: freckle, Probability: 0.5156\n",
            "Image: test_set/freckles30.jpeg - Predicted class: acne, Probability: 0.7217\n",
            "Image: test_set/freckles31.jpeg - Predicted class: basal cell carcinoma, Probability: 0.6642\n",
            "Image: test_set/freckles32.jpg - Predicted class: freckle, Probability: 0.7689\n",
            "Image: test_set/freckles33.jpeg - Predicted class: acne, Probability: 0.9100\n",
            "Image: test_set/freckles34.jpeg - Predicted class: acne, Probability: 0.7078\n",
            "Image: test_set/freckles35.jpeg - Predicted class: basal cell carcinoma, Probability: 0.3750\n",
            "Image: test_set/freckles36weirdlight.png - Predicted class: basal cell carcinoma, Probability: 0.4734\n",
            "Image: test_set/freckles37.jpeg - Predicted class: freckle, Probability: 0.4794\n",
            "Image: test_set/freckles38.jpg - Predicted class: basal cell carcinoma, Probability: 0.7212\n",
            "Image: test_set/freckles39.jpeg - Predicted class: actinic keratosis, Probability: 0.2730\n",
            "Image: test_set/freckles40.jpeg - Predicted class: acne, Probability: 0.3541\n",
            "Image: test_set/freckles40photoshopped.jpeg - Predicted class: basal cell carcinoma, Probability: 0.5654\n",
            "Image: test_set/freckles42.jpeg - Predicted class: milia, Probability: 0.5812\n",
            "Image: test_set/freckles43.jpeg - Predicted class: acne, Probability: 0.9999\n",
            "Image: test_set/freckles44.jpeg - Predicted class: acne, Probability: 0.5581\n",
            "Image: test_set/freckles45brightcolors.jpeg - Predicted class: acne, Probability: 0.8215\n",
            "Image: test_set/freckles46outoffocus.jpg - Predicted class: basal cell carcinoma, Probability: 0.9198\n",
            "Image: test_set/freckles47.png - Predicted class: basal cell carcinoma, Probability: 0.6859\n",
            "Image: test_set/freckles48.jpg - Predicted class: acne, Probability: 0.7122\n",
            "Image: test_set/freckles49asian.jpeg - Predicted class: acne, Probability: 0.3967\n",
            "Image: test_set/freckles5.jpg - Predicted class: milia, Probability: 0.8513\n",
            "Image: test_set/freckles50.jpeg - Predicted class: acne, Probability: 0.6936\n",
            "Image: test_set/freckles6.png - Predicted class: basal cell carcinoma, Probability: 0.6234\n",
            "Image: test_set/freckles7.jpg - Predicted class: actinic keratosis, Probability: 0.8221\n",
            "Image: test_set/freckles8.jpg - Predicted class: acne, Probability: 0.9980\n",
            "Image: test_set/freckles9.jpeg - Predicted class: acne, Probability: 0.5417\n",
            "Image: test_set/levle0_1.jpg - Predicted class: freckle, Probability: 0.6557\n",
            "Image: test_set/levle0_100.jpg - Predicted class: actinic keratosis, Probability: 0.5077\n",
            "Image: test_set/levle0_101.jpg - Predicted class: basal cell carcinoma, Probability: 0.7236\n",
            "Image: test_set/levle0_102.jpg - Predicted class: basal cell carcinoma, Probability: 0.3544\n",
            "Image: test_set/levle0_103.jpg - Predicted class: freckle, Probability: 0.3126\n",
            "Image: test_set/levle0_104.jpg - Predicted class: milia, Probability: 0.7702\n",
            "Image: test_set/levle0_105.jpg - Predicted class: acne, Probability: 0.4775\n",
            "Image: test_set/levle0_106.jpg - Predicted class: basal cell carcinoma, Probability: 0.5093\n",
            "Image: test_set/levle0_107.jpg - Predicted class: actinic keratosis, Probability: 0.2853\n",
            "Image: test_set/levle0_108.jpg - Predicted class: actinic keratosis, Probability: 0.4925\n",
            "Image: test_set/levle2-101.jpg - Predicted class: acne, Probability: 0.8553\n",
            "Image: test_set/levle2-132.jpg - Predicted class: acne, Probability: 0.6928\n",
            "Image: test_set/levle2-147.jpg - Predicted class: basal cell carcinoma, Probability: 0.6733\n",
            "Image: test_set/levle2-36.jpg - Predicted class: actinic keratosis, Probability: 0.5247\n",
            "Image: test_set/levle2-43.jpg - Predicted class: milia, Probability: 0.5675\n",
            "Image: test_set/levle2-60.jpg - Predicted class: acne, Probability: 0.9734\n",
            "Image: test_set/levle2-65.jpg - Predicted class: basal cell carcinoma, Probability: 0.5177\n",
            "Image: test_set/levle2-72.jpg - Predicted class: acne, Probability: 0.7283\n",
            "Image: test_set/levle2-8.jpg - Predicted class: actinic keratosis, Probability: 0.7540\n",
            "Image: test_set/levle2_101.jpg - Predicted class: actinic keratosis, Probability: 0.4572\n",
            "Image: test_set/levle2_102.jpg - Predicted class: actinic keratosis, Probability: 0.6290\n",
            "Image: test_set/levle2_105.jpg - Predicted class: milia, Probability: 0.8346\n",
            "Image: test_set/levle2_106.jpg - Predicted class: basal cell carcinoma, Probability: 0.6262\n",
            "Image: test_set/levle2_109.jpg - Predicted class: basal cell carcinoma, Probability: 0.9897\n",
            "Image: test_set/levle2_111.jpg - Predicted class: basal cell carcinoma, Probability: 0.6371\n",
            "Image: test_set/levle2_114.jpg - Predicted class: milia, Probability: 0.8817\n",
            "Image: test_set/levle2_115.jpg - Predicted class: milia, Probability: 0.4154\n",
            "Image: test_set/levle2_117.jpg - Predicted class: basal cell carcinoma, Probability: 0.9918\n",
            "Image: test_set/levle2_118.jpg - Predicted class: acne, Probability: 0.5585\n",
            "Image: test_set/levle2_119.jpg - Predicted class: freckle, Probability: 0.9833\n",
            "Image: test_set/levle2_120.jpg - Predicted class: basal cell carcinoma, Probability: 0.7265\n",
            "Image: test_set/levle2_121.jpg - Predicted class: basal cell carcinoma, Probability: 0.5002\n",
            "Image: test_set/levle2_122.jpg - Predicted class: acne, Probability: 0.4764\n",
            "Image: test_set/levle2_125.jpg - Predicted class: basal cell carcinoma, Probability: 0.4912\n",
            "Image: test_set/levle2_125.png - Predicted class: basal cell carcinoma, Probability: 0.8600\n",
            "Image: test_set/levle2_126.jpg - Predicted class: basal cell carcinoma, Probability: 0.6466\n",
            "Image: test_set/levle2_129.jpg - Predicted class: acne, Probability: 0.9454\n",
            "Image: test_set/levle2_130.jpg - Predicted class: basal cell carcinoma, Probability: 0.5227\n",
            "Image: test_set/levle2_135.jpg - Predicted class: actinic keratosis, Probability: 0.5780\n",
            "Image: test_set/levle2_137.jpg - Predicted class: acne, Probability: 0.8329\n",
            "Image: test_set/levle2_140.jpg - Predicted class: acne, Probability: 0.3865\n",
            "Image: test_set/levle2_141.jpg - Predicted class: basal cell carcinoma, Probability: 0.4828\n",
            "Image: test_set/levle2_143.jpg - Predicted class: acne, Probability: 0.8185\n",
            "Image: test_set/levle2_144.jpg - Predicted class: basal cell carcinoma, Probability: 0.4618\n",
            "Image: test_set/levle2_145.jpg - Predicted class: milia, Probability: 0.3549\n",
            "Image: test_set/levle2_147.jpg - Predicted class: actinic keratosis, Probability: 0.5435\n",
            "Image: test_set/levle2_148.jpg - Predicted class: actinic keratosis, Probability: 0.4819\n",
            "Image: test_set/levle2_149.jpg - Predicted class: freckle, Probability: 0.8161\n",
            "Image: test_set/levle2_154.jpg - Predicted class: actinic keratosis, Probability: 0.4833\n",
            "Image: test_set/levle2_159.jpg - Predicted class: actinic keratosis, Probability: 0.6747\n",
            "Image: test_set/levle2_160.jpg - Predicted class: acne, Probability: 0.8766\n",
            "Image: test_set/levle2_162.jpg - Predicted class: basal cell carcinoma, Probability: 0.7969\n",
            "Image: test_set/levle2_163.jpg - Predicted class: actinic keratosis, Probability: 0.5971\n",
            "Image: test_set/levle2_164.jpg - Predicted class: freckle, Probability: 0.9426\n",
            "Image: test_set/levle2_165.jpg - Predicted class: actinic keratosis, Probability: 0.5248\n",
            "Image: test_set/levle2_167.jpg - Predicted class: actinic keratosis, Probability: 0.3151\n",
            "Image: test_set/levle2_168.jpg - Predicted class: acne, Probability: 0.9939\n",
            "Image: test_set/levle2_169.jpg - Predicted class: freckle, Probability: 0.9852\n",
            "Image: test_set/levle2_170.jpg - Predicted class: acne, Probability: 0.6125\n",
            "Image: test_set/levle2_171.jpg - Predicted class: acne, Probability: 0.7097\n",
            "Image: test_set/levle2_176.jpg - Predicted class: milia, Probability: 0.3976\n",
            "Image: test_set/levle2_178.jpg - Predicted class: basal cell carcinoma, Probability: 0.5966\n",
            "Image: test_set/levle2_179.jpg - Predicted class: basal cell carcinoma, Probability: 0.8443\n",
            "Image: test_set/levle2_180.jpg - Predicted class: actinic keratosis, Probability: 0.6062\n",
            "Image: test_set/levle2_181.jpg - Predicted class: basal cell carcinoma, Probability: 0.9441\n",
            "Image: test_set/levle2_182.jpg - Predicted class: basal cell carcinoma, Probability: 0.5281\n",
            "Image: test_set/levle2_183.jpg - Predicted class: acne, Probability: 0.3187\n",
            "Image: test_set/levle2_184.jpg - Predicted class: acne, Probability: 0.9366\n",
            "Image: test_set/levle2_185.jpg - Predicted class: acne, Probability: 0.6936\n",
            "Image: test_set/levle2_186.jpg - Predicted class: acne, Probability: 0.5579\n",
            "Image: test_set/levle2_187.jpg - Predicted class: acne, Probability: 0.5601\n",
            "Image: test_set/levle2_188.jpg - Predicted class: basal cell carcinoma, Probability: 0.4992\n",
            "Image: test_set/levle2_189.jpg - Predicted class: basal cell carcinoma, Probability: 0.5550\n",
            "Image: test_set/levle2_21.jpg - Predicted class: actinic keratosis, Probability: 0.5103\n",
            "Image: test_set/levle2_30.jpg - Predicted class: basal cell carcinoma, Probability: 0.3574\n",
            "Image: test_set/levle2_34.jpg - Predicted class: actinic keratosis, Probability: 0.3058\n",
            "Image: test_set/levle2_35.jpg - Predicted class: freckle, Probability: 0.9576\n",
            "Image: test_set/levle2_36.jpg - Predicted class: milia, Probability: 0.5087\n",
            "Image: test_set/levle2_37.jpg - Predicted class: milia, Probability: 0.9991\n",
            "Image: test_set/levle2_38.jpg - Predicted class: basal cell carcinoma, Probability: 0.7347\n",
            "Image: test_set/levle2_39.jpg - Predicted class: milia, Probability: 0.6363\n",
            "Image: test_set/levle2_40.jpg - Predicted class: milia, Probability: 0.4213\n",
            "Image: test_set/levle2_41.jpg - Predicted class: milia, Probability: 0.9934\n",
            "Image: test_set/levle2_43.jpg - Predicted class: milia, Probability: 0.2829\n",
            "Image: test_set/levle2_50.jpg - Predicted class: freckle, Probability: 0.6812\n",
            "Image: test_set/levle2_52.jpg - Predicted class: acne, Probability: 0.8164\n",
            "Image: test_set/levle2_53.jpg - Predicted class: basal cell carcinoma, Probability: 0.9738\n",
            "Image: test_set/levle2_54.jpg - Predicted class: basal cell carcinoma, Probability: 0.6682\n",
            "Image: test_set/levle2_56.jpg - Predicted class: basal cell carcinoma, Probability: 0.8076\n",
            "Image: test_set/levle2_57.jpg - Predicted class: basal cell carcinoma, Probability: 0.8670\n",
            "Image: test_set/levle2_58.jpg - Predicted class: acne, Probability: 0.5244\n",
            "Image: test_set/levle2_59.jpg - Predicted class: milia, Probability: 0.3030\n",
            "Image: test_set/levle2_60.jpg - Predicted class: basal cell carcinoma, Probability: 0.6052\n",
            "Image: test_set/levle2_61.jpg - Predicted class: acne, Probability: 0.8685\n",
            "Image: test_set/levle2_64.jpg - Predicted class: basal cell carcinoma, Probability: 0.7018\n",
            "Image: test_set/levle2_65.jpg - Predicted class: basal cell carcinoma, Probability: 0.6641\n",
            "Image: test_set/levle2_67.jpg - Predicted class: freckle, Probability: 0.9263\n",
            "Image: test_set/levle2_70.jpg - Predicted class: basal cell carcinoma, Probability: 0.7843\n",
            "Image: test_set/levle2_71.jpg - Predicted class: milia, Probability: 0.9992\n",
            "Image: test_set/levle2_72.jpg - Predicted class: milia, Probability: 0.8747\n",
            "Image: test_set/levle2_73.jpg - Predicted class: milia, Probability: 0.7159\n",
            "Image: test_set/levle2_75.jpg - Predicted class: basal cell carcinoma, Probability: 0.9057\n",
            "Image: test_set/levle2_76.jpg - Predicted class: basal cell carcinoma, Probability: 0.9948\n",
            "Image: test_set/levle2_77.jpg - Predicted class: acne, Probability: 0.4763\n",
            "Image: test_set/levle2_78.jpg - Predicted class: basal cell carcinoma, Probability: 0.7701\n",
            "Image: test_set/levle2_79.jpg - Predicted class: freckle, Probability: 0.6560\n",
            "Image: test_set/levle2_81.jpg - Predicted class: milia, Probability: 0.7804\n",
            "Image: test_set/levle2_82.jpg - Predicted class: acne, Probability: 0.5208\n",
            "Image: test_set/levle2_83.jpg - Predicted class: actinic keratosis, Probability: 0.5630\n",
            "Image: test_set/levle2_84.jpg - Predicted class: freckle, Probability: 0.4169\n",
            "Image: test_set/levle2_85.jpg - Predicted class: basal cell carcinoma, Probability: 0.7716\n",
            "Image: test_set/levle2_86.jpg - Predicted class: acne, Probability: 0.5625\n",
            "Image: test_set/levle2_88.jpg - Predicted class: basal cell carcinoma, Probability: 0.6321\n",
            "Image: test_set/levle2_92.jpg - Predicted class: acne, Probability: 0.8131\n",
            "Image: test_set/levle2_96.jpg - Predicted class: basal cell carcinoma, Probability: 0.6285\n",
            "Image: test_set/levle2_97.jpg - Predicted class: milia, Probability: 0.9731\n",
            "Image: test_set/levle2_98.jpg - Predicted class: actinic keratosis, Probability: 0.6229\n",
            "Image: test_set/levle3_100.jpg - Predicted class: milia, Probability: 0.7458\n",
            "Image: test_set/levle3_106.jpg - Predicted class: basal cell carcinoma, Probability: 0.6575\n",
            "Image: test_set/levle3_111.jpg - Predicted class: basal cell carcinoma, Probability: 0.8182\n",
            "Image: test_set/levle3_113.jpg - Predicted class: basal cell carcinoma, Probability: 0.7701\n",
            "Image: test_set/levle3_114.jpg - Predicted class: basal cell carcinoma, Probability: 0.9577\n",
            "Image: test_set/levle3_115.jpg - Predicted class: basal cell carcinoma, Probability: 0.7800\n",
            "Image: test_set/levle3_118.jpg - Predicted class: acne, Probability: 0.7881\n",
            "Image: test_set/levle3_130.jpg - Predicted class: acne, Probability: 0.4362\n",
            "Image: test_set/levle3_132.jpg - Predicted class: acne, Probability: 0.9206\n",
            "Image: test_set/levle3_133.jpg - Predicted class: acne, Probability: 0.3233\n"
          ]
        }
      ]
    },
    {
      "cell_type": "markdown",
      "source": [
        "## Labeling Test Images\n",
        "\n",
        "We label the test images for creating the confusion matrix to evaluate the CNN model.\n"
      ],
      "metadata": {
        "id": "u0N9y6QTqNmm"
      }
    },
    {
      "cell_type": "code",
      "source": [
        "import os\n",
        "import numpy as np\n",
        "from tensorflow.keras.preprocessing.image import img_to_array, load_img\n",
        "from sklearn.preprocessing import LabelEncoder\n",
        "from tensorflow.keras.utils import to_categorical\n",
        "\n",
        "test_images_path = '/content/drive/My Drive/Capstone/testing/test_set'\n",
        "\n",
        "# label based on filename\n",
        "def get_label_from_filename(filename):\n",
        "    if 'ak' in filename.lower():\n",
        "        return 'actinic keratosis'\n",
        "    elif 'actinic' in filename.lower():\n",
        "        return 'actinic keratosis'\n",
        "    elif 'basal' in filename.lower():\n",
        "        return 'basal cell carcinoma'\n",
        "    elif 'isic' in filename.lower():\n",
        "        return 'basal cell carcinoma'\n",
        "    elif 'img' in filename.lower():\n",
        "        return 'acne'\n",
        "    elif 'levle' in filename.lower():\n",
        "        return 'acne'\n",
        "    elif 'milia' in filename.lower():\n",
        "        return 'milia'\n",
        "    elif 'freckle' in filename.lower():\n",
        "        return 'freckle'\n",
        "    else:\n",
        "        return 'unknown'\n",
        "\n",
        "def load_images_and_labels(image_dir):\n",
        "    filenames = os.listdir(image_dir)\n",
        "    images = []\n",
        "    labels = []\n",
        "\n",
        "    for filename in filenames:\n",
        "        label = get_label_from_filename(filename)\n",
        "        image_path = os.path.join(image_dir, filename)\n",
        "        image = load_img(image_path, target_size=(150, 150))\n",
        "        image_array = img_to_array(image)\n",
        "        images.append(image_array)\n",
        "        labels.append(label)\n",
        "\n",
        "    return np.array(images), np.array(labels)\n",
        "\n",
        "# encoding to integers\n",
        "images, labels = load_images_and_labels(test_images_path)\n",
        "label_encoder = LabelEncoder()\n",
        "encoded_labels = label_encoder.fit_transform(labels)\n",
        "categorical_labels = to_categorical(encoded_labels)"
      ],
      "metadata": {
        "id": "WJdL0hiXn6Gb"
      },
      "execution_count": null,
      "outputs": []
    },
    {
      "cell_type": "markdown",
      "source": [
        "## Confusion Matrix Generation\n",
        "\n",
        "We create a confusion matrix here using the predictions made by the model and also the labeled test images. The confusion matrix will help us to decide if there has been misclassification made by the model and for which of the specific labels."
      ],
      "metadata": {
        "id": "bgkmNczop10G"
      }
    },
    {
      "cell_type": "code",
      "source": [
        "import numpy as np\n",
        "from sklearn.metrics import confusion_matrix\n",
        "import matplotlib.pyplot as plt\n",
        "import seaborn as sns\n",
        "from sklearn.preprocessing import LabelEncoder\n",
        "from tensorflow.keras.utils import to_categorical\n",
        "\n",
        "model = load_model('/content/drive/My Drive/Capstone/skinwisepro.h5')\n",
        "\n",
        "images, true_labels = load_images_and_labels(test_images_path)\n",
        "\n",
        "images = images / 255.0\n",
        "\n",
        "predictions = model.predict(images)\n",
        "predicted_classes = np.argmax(predictions, axis=1)\n",
        "\n",
        "# encoding to integers\n",
        "label_encoder = LabelEncoder()\n",
        "true_labels_encoded = label_encoder.fit_transform(true_labels)\n",
        "true_classes = to_categorical(true_labels_encoded)\n",
        "\n",
        "\n",
        "cm = confusion_matrix(true_labels_encoded, predicted_classes)\n",
        "\n",
        "\n",
        "class_labels = label_encoder.classes_\n",
        "\n",
        "# Plotting\n",
        "plt.figure(figsize=(10, 8))\n",
        "sns.heatmap(cm, annot=True, fmt='d', cmap='Blues', xticklabels=class_labels, yticklabels=class_labels)\n",
        "plt.title('Confusion Matrix')\n",
        "plt.ylabel('True Class')\n",
        "plt.xlabel('Predicted Class')\n",
        "plt.show()\n"
      ],
      "metadata": {
        "colab": {
          "base_uri": "https://localhost:8080/",
          "height": 864
        },
        "id": "wf0mseWzkYVt",
        "outputId": "d298f78e-f107-462c-cd6f-81ff0fffa9c6"
      },
      "execution_count": null,
      "outputs": [
        {
          "output_type": "stream",
          "name": "stdout",
          "text": [
            "17/17 [==============================] - 13s 139ms/step\n"
          ]
        },
        {
          "output_type": "display_data",
          "data": {
            "text/plain": [
              "<Figure size 1000x800 with 2 Axes>"
            ],
            "image/png": "[encoded data removed]"
          },
          "metadata": {}
        }
      ]
    },
    {
      "cell_type": "markdown",
      "source": [
        "**Normalized Confusion Matrix**"
      ],
      "metadata": {
        "id": "DctsJGAo8o1A"
      }
    },
    {
      "cell_type": "code",
      "source": [
        "import numpy as np\n",
        "from sklearn.metrics import confusion_matrix\n",
        "import matplotlib.pyplot as plt\n",
        "import seaborn as sns\n",
        "from sklearn.preprocessing import LabelEncoder\n",
        "from tensorflow.keras.utils import to_categorical\n",
        "from tensorflow.keras.models import load_model\n",
        "\n",
        "\n",
        "model = load_model('/content/drive/My Drive/Capstone/skinwisepro.h5')\n",
        "\n",
        "\n",
        "images, true_labels = load_images_and_labels(test_images_path)\n",
        "\n",
        "\n",
        "images = images / 255.0\n",
        "\n",
        "\n",
        "predictions = model.predict(images)\n",
        "predicted_classes = np.argmax(predictions, axis=1)\n",
        "\n",
        "# encoding to integers\n",
        "label_encoder = LabelEncoder()\n",
        "true_labels_encoded = label_encoder.fit_transform(true_labels)\n",
        "true_classes = to_categorical(true_labels_encoded)\n",
        "\n",
        "\n",
        "cm = confusion_matrix(true_labels_encoded, predicted_classes)\n",
        "\n",
        "# normalized to show percentages\n",
        "cm_normalized = 100 * cm.astype('float') / cm.sum(axis=1)[:, np.newaxis]\n",
        "\n",
        "class_labels = label_encoder.classes_\n",
        "\n",
        "plt.figure(figsize=(10, 8))\n",
        "sns.heatmap(cm_normalized, annot=True, cmap='Blues', xticklabels=class_labels, yticklabels=class_labels,\n",
        "            annot_kws={\"va\": \"center\", \"ha\": \"center\"})\n",
        "plt.title('Normalized Confusion Matrix (%)')\n",
        "plt.ylabel('True Class')\n",
        "plt.xlabel('Predicted Class')\n",
        "plt.show()\n"
      ],
      "metadata": {
        "colab": {
          "base_uri": "https://localhost:8080/",
          "height": 864
        },
        "id": "6uEoeEoz7SMu",
        "outputId": "63957496-7826-4229-8d6e-b49a3b033100"
      },
      "execution_count": null,
      "outputs": [
        {
          "output_type": "stream",
          "name": "stdout",
          "text": [
            "17/17 [==============================] - 2s 33ms/step\n"
          ]
        },
        {
          "output_type": "display_data",
          "data": {
            "text/plain": [
              "<Figure size 1000x800 with 2 Axes>"
            ],
            "image/png": "[encoded data removed]"
          },
          "metadata": {}
        }
      ]
    },
    {
      "cell_type": "markdown",
      "source": [
        "## Model Evaluation\n",
        "\n",
        "We use the `evaluate` method to get the validation loss and validation accuracy for the model. This helps us to understand how well the model works with new data.  \n",
        "\n",
        "- **Validation Loss**: Loss value for the model on validation data\n",
        "- **Validation Accuracy**: Accuracy value for the model on validation data"
      ],
      "metadata": {
        "id": "yuYHzYuCwU3-"
      }
    },
    {
      "cell_type": "code",
      "source": [
        "loss, accuracy = model.evaluate(validation_generator, steps=validation_generator.samples // validation_generator.batch_size)\n",
        "print(\"Validation Loss:\", loss)\n",
        "print(\"Validation Accuracy:\", accuracy)\n"
      ],
      "metadata": {
        "colab": {
          "base_uri": "https://localhost:8080/"
        },
        "id": "nvHMKXajOUVS",
        "outputId": "46bd0009-096e-4d00-a062-d5366068cfcb"
      },
      "execution_count": null,
      "outputs": [
        {
          "output_type": "stream",
          "name": "stdout",
          "text": [
            "11/11 [==============================] - 2s 174ms/step - loss: 0.5432 - accuracy: 0.7500\n",
            "Validation Loss: 0.5432058572769165\n",
            "Validation Accuracy: 0.75\n"
          ]
        }
      ]
    },
    {
      "cell_type": "markdown",
      "source": [
        "**Accuracy**"
      ],
      "metadata": {
        "id": "9q31wfZxS2VG"
      }
    },
    {
      "cell_type": "code",
      "source": [
        "accuracy = np.trace(cm) / np.sum(cm)\n",
        "print(f\"Accuracy: {accuracy:.4f}\")"
      ],
      "metadata": {
        "id": "XEXDw4cCS1Tu",
        "outputId": "c8378bb3-826c-4217-bbe5-d488ddeacdc2",
        "colab": {
          "base_uri": "https://localhost:8080/"
        }
      },
      "execution_count": null,
      "outputs": [
        {
          "output_type": "stream",
          "name": "stdout",
          "text": [
            "Accuracy: 0.6574\n"
          ]
        }
      ]
    },
    {
      "cell_type": "markdown",
      "source": [
        "## Plotting Training and Validation Metrics\n",
        "\n",
        "We finally plot the training and validation performance per epoch.\n",
        "\n",
        "- **Accuracy Plot**: This shows the proportion of right values predicted for the validation dataset.\n",
        "- **Loss Plot**: This shows the error between the actual and the predicted values."
      ],
      "metadata": {
        "id": "_vb7TT6Awafz"
      }
    },
    {
      "cell_type": "code",
      "source": [
        "import matplotlib.pyplot as plt\n",
        "\n",
        "\n",
        "plt.plot(history.history['accuracy'], label='Training Accuracy')\n",
        "plt.plot(history.history['val_accuracy'], label='Validation Accuracy')\n",
        "plt.xlabel('Epoch')\n",
        "plt.ylabel('Accuracy')\n",
        "plt.title('Training and Validation Accuracy')\n",
        "plt.legend()\n",
        "plt.show()\n",
        "\n",
        "\n",
        "plt.plot(history.history['loss'], label='Training Loss')\n",
        "plt.plot(history.history['val_loss'], label='Validation Loss')\n",
        "plt.xlabel('Epoch')\n",
        "plt.ylabel('Loss')\n",
        "plt.title('Training and Validation Loss')\n",
        "plt.legend()\n",
        "plt.show()\n"
      ],
      "metadata": {
        "colab": {
          "base_uri": "https://localhost:8080/",
          "height": 927
        },
        "id": "MwJFa_lboIaX",
        "outputId": "92d8d94e-46ff-4812-d2df-88e313c60bc2"
      },
      "execution_count": null,
      "outputs": [
        {
          "output_type": "display_data",
          "data": {
            "text/plain": [
              "<Figure size 640x480 with 1 Axes>"
            ],
            "image/png": "[encoded data removed]"
          },
          "metadata": {}
        },
        {
          "output_type": "display_data",
          "data": {
            "text/plain": [
              "<Figure size 640x480 with 1 Axes>"
            ],
            "image/png": "[encoded data removed]"
          },
          "metadata": {}
        }
      ]
    }
  ]
}